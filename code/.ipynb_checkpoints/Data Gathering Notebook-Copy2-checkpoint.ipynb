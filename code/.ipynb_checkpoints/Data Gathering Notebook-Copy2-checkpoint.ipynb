{
 "cells": [
  {
   "cell_type": "markdown",
   "metadata": {},
   "source": [
    "# Sentiment Analysis of Covid-19 Related Tweets based on Geographic Location and State Policies\n",
    "\n",
    "#### Authors: Steve Diamond [(GitHub)](ttps://github.com/ssdiam2000), Markell Jones-Francis [(GitHub)](https://git.generalassemb.ly/markelljones-francis), and Julia Kelman [(GitHub)](https://git.generalassemb.ly/julia-kelman/)"
   ]
  },
  {
   "cell_type": "markdown",
   "metadata": {},
   "source": [
    "## Loading Libraries"
   ]
  },
  {
   "cell_type": "code",
   "execution_count": 1,
   "metadata": {},
   "outputs": [
    {
     "name": "stdout",
     "output_type": "stream",
     "text": [
      "Requirement already satisfied: twitterscraper in /opt/anaconda3/envs/DSI/lib/python3.7/site-packages (1.4.0)\n",
      "Requirement already satisfied: billiard in /opt/anaconda3/envs/DSI/lib/python3.7/site-packages (from twitterscraper) (3.6.3.0)\n",
      "Requirement already satisfied: bs4 in /opt/anaconda3/envs/DSI/lib/python3.7/site-packages (from twitterscraper) (0.0.1)\n",
      "Requirement already satisfied: lxml in /opt/anaconda3/envs/DSI/lib/python3.7/site-packages (from twitterscraper) (4.5.0)\n",
      "Requirement already satisfied: coala-utils~=0.5.0 in /opt/anaconda3/envs/DSI/lib/python3.7/site-packages (from twitterscraper) (0.5.1)\n",
      "Requirement already satisfied: requests in /opt/anaconda3/envs/DSI/lib/python3.7/site-packages (from twitterscraper) (2.23.0)\n",
      "Requirement already satisfied: beautifulsoup4 in /opt/anaconda3/envs/DSI/lib/python3.7/site-packages (from bs4->twitterscraper) (4.8.2)\n",
      "Requirement already satisfied: chardet<4,>=3.0.2 in /opt/anaconda3/envs/DSI/lib/python3.7/site-packages (from requests->twitterscraper) (3.0.4)\n",
      "Requirement already satisfied: certifi>=2017.4.17 in /opt/anaconda3/envs/DSI/lib/python3.7/site-packages (from requests->twitterscraper) (2020.4.5.1)\n",
      "Requirement already satisfied: idna<3,>=2.5 in /opt/anaconda3/envs/DSI/lib/python3.7/site-packages (from requests->twitterscraper) (2.8)\n",
      "Requirement already satisfied: urllib3!=1.25.0,!=1.25.1,<1.26,>=1.21.1 in /opt/anaconda3/envs/DSI/lib/python3.7/site-packages (from requests->twitterscraper) (1.25.8)\n",
      "Requirement already satisfied: soupsieve>=1.2 in /opt/anaconda3/envs/DSI/lib/python3.7/site-packages (from beautifulsoup4->bs4->twitterscraper) (1.9.5)\n",
      "Note: you may need to restart the kernel to use updated packages.\n"
     ]
    }
   ],
   "source": [
    "pip install twitterscraper"
   ]
  },
  {
   "cell_type": "code",
   "execution_count": 2,
   "metadata": {
    "scrolled": true
   },
   "outputs": [
    {
     "name": "stderr",
     "output_type": "stream",
     "text": [
      "INFO: {'User-Agent': 'Mozilla/5.0 (Windows; U; Windows NT 6.1; rv:2.2) Gecko/20110201'}\n"
     ]
    }
   ],
   "source": [
    "import pandas as pd\n",
    "import requests\n",
    "from bs4 import BeautifulSoup\n",
    "import twitterscraper as ts\n",
    "from twitterscraper.tweet import Tweet\n",
    "from time import strftime, localtime\n",
    "import json"
   ]
  },
  {
   "cell_type": "code",
   "execution_count": 3,
   "metadata": {},
   "outputs": [],
   "source": [
    "pd.set_option('display.max_columns', None)"
   ]
  },
  {
   "cell_type": "markdown",
   "metadata": {},
   "source": [
    "## Gathering Twitter Data"
   ]
  },
  {
   "cell_type": "markdown",
   "metadata": {},
   "source": [
    "We will use a publically available dataset created by Rabindra Lamsal and available [here](https://ieee-dataport.org/open-access/corona-virus-covid-19-geolocation-based-sentiment-data) (more specifically, the `april28-may6.csv` file was used). This data provides tweet IDs and sentiment scores for tweets posted between April 28th and May 6th 2020 which mentioned anything about \"corona\", \"covid-19\", \"coronavirus\" or the variants of \"sars-cov-2\" and have location information available.  \n",
    "Complying with Twitter's data sharing policy, only the tweet IDs were shared in the original dataset. As a result, we need to hydrate these IDs using twitterscrapper in order to retrive the content of the tweet and location information. This information then needs to be saved in a new dataframe. "
   ]
  },
  {
   "cell_type": "markdown",
   "metadata": {},
   "source": [
    "### Loading Tweet Id and Sentiment Score Data"
   ]
  },
  {
   "cell_type": "code",
   "execution_count": 3,
   "metadata": {},
   "outputs": [
    {
     "data": {
      "text/html": [
       "<div>\n",
       "<style scoped>\n",
       "    .dataframe tbody tr th:only-of-type {\n",
       "        vertical-align: middle;\n",
       "    }\n",
       "\n",
       "    .dataframe tbody tr th {\n",
       "        vertical-align: top;\n",
       "    }\n",
       "\n",
       "    .dataframe thead th {\n",
       "        text-align: right;\n",
       "    }\n",
       "</style>\n",
       "<table border=\"1\" class=\"dataframe\">\n",
       "  <thead>\n",
       "    <tr style=\"text-align: right;\">\n",
       "      <th></th>\n",
       "      <th>tweet_id</th>\n",
       "      <th>sentiment_score</th>\n",
       "    </tr>\n",
       "  </thead>\n",
       "  <tbody>\n",
       "    <tr>\n",
       "      <th>0</th>\n",
       "      <td>1254995208888094721</td>\n",
       "      <td>0.0000</td>\n",
       "    </tr>\n",
       "    <tr>\n",
       "      <th>1</th>\n",
       "      <td>1254995485452050438</td>\n",
       "      <td>0.0000</td>\n",
       "    </tr>\n",
       "    <tr>\n",
       "      <th>2</th>\n",
       "      <td>1254995705527177216</td>\n",
       "      <td>0.5250</td>\n",
       "    </tr>\n",
       "    <tr>\n",
       "      <th>3</th>\n",
       "      <td>1254995868333289475</td>\n",
       "      <td>0.2875</td>\n",
       "    </tr>\n",
       "    <tr>\n",
       "      <th>4</th>\n",
       "      <td>1254996123514789893</td>\n",
       "      <td>0.0000</td>\n",
       "    </tr>\n",
       "  </tbody>\n",
       "</table>\n",
       "</div>"
      ],
      "text/plain": [
       "              tweet_id  sentiment_score\n",
       "0  1254995208888094721           0.0000\n",
       "1  1254995485452050438           0.0000\n",
       "2  1254995705527177216           0.5250\n",
       "3  1254995868333289475           0.2875\n",
       "4  1254996123514789893           0.0000"
      ]
     },
     "execution_count": 3,
     "metadata": {},
     "output_type": "execute_result"
    }
   ],
   "source": [
    "tweets_id = pd.read_csv(\"../data/april28-may6.csv\", header=None)\n",
    "tweets_id.rename(columns={0:'tweet_id', 1:'sentiment_score'}, inplace=True)\n",
    "tweets_id.head()"
   ]
  },
  {
   "cell_type": "markdown",
   "metadata": {},
   "source": [
    "### Getting Original Tweet and Location Function"
   ]
  },
  {
   "cell_type": "code",
   "execution_count": 4,
   "metadata": {},
   "outputs": [],
   "source": [
    "def get_tweet_df(df):\n",
    "    tweets = []          # creates list to store Tweet objects                                                     \n",
    "    locations = []       # creates list to store scraped location data\n",
    "    deleted_tweets = 0   # starts counter for deleted tweets if tweet can no longer be reached\n",
    "    \n",
    "    # loops through each tweet_id in the imported dataframe of tweet_id\n",
    "    for tweet_id in df['tweet_id']:\n",
    "        url = f'https://twitter.com/anyuser/status/{tweet_id}'    # sets url to the tweet - tweet urls do not need a specified user\n",
    "        res = requests.get(url)                                   # request for tweet url\n",
    "        soup = BeautifulSoup(res.content, 'lxml')                 # creates beautifulsoup object for the webpage of the tweet\n",
    "        # attempts to create tweet object using beautifulsoup object\n",
    "        # and adds location based on location scrape from beatifulsoup object\n",
    "        try:                                              \n",
    "            tweets.append(Tweet.from_soup(soup))\n",
    "            locations.append(soup.find('span', 'permalink-tweet-geo-text').text[12: -1])\n",
    "        # adds to deleted_tweets counter if tweet url does not exist\n",
    "        except:\n",
    "            deleted_tweets += 1\n",
    "    print(f'Deleted Tweets = {deleted_tweets}')                   # prints number of deleted tweets in dataframe\n",
    "    tweet_df = pd.DataFrame(t.__dict__ for t in tweets)           # creates dataframe using tweet objects in tweets list\n",
    "    tweet_df = tweet_df.astype({'tweet_id': 'int64'})             # converts tweet_id from str to int so it can be merged to id_df\n",
    "    # dropping columns that are note useful for our analysis\n",
    "    tweet_df.drop(columns = ['user_id', 'tweet_url',\n",
    "        'timestamp_epochs', 'text_html', 'links',\n",
    "        'has_media', 'img_urls', 'video_url', 'is_replied', 'is_reply_to', 'parent_tweet_id',\n",
    "       'reply_to_users'], inplace = True)\n",
    "    # merge original df to new df to keep sentiment score\n",
    "    tweet_df = pd.merge(left = tweet_df, right = df, on = 'tweet_id')  \n",
    "    # create dataframe of locations from list of scraped locations\n",
    "    location_df = pd.DataFrame(locations, columns = ['location'])       \n",
    "    # merge locations dataframe onto tweets dataframe with sentiments\n",
    "    # merge on index because the index is the same\n",
    "    tweet_df = pd.merge(tweet_df, location_df, left_index= True, right_index = True) \n",
    "    # creates city column by using the location value up to the last word - which is the state (or country if outside of the US) \n",
    "    # removes the comma at the end of the city name\n",
    "    tweet_df['city'] = [' '.join(loc.split()[:-1:]).replace(',', '') for loc in tweet_df['location']]\n",
    "    # creates state column by taking the last word of the location value - (returns the country if location is outside US)\n",
    "    tweet_df['state'] = [loc.split()[-1] for loc in tweet_df['location']]\n",
    "    # removes location column as it is no longer neccessary\n",
    "    tweet_df.drop(columns = ['location'], inplace = True)\n",
    "    return tweet_df"
   ]
  },
  {
   "cell_type": "markdown",
   "metadata": {},
   "source": [
    "### Gathering Original Tweet and Location Data"
   ]
  },
  {
   "cell_type": "code",
   "execution_count": 5,
   "metadata": {},
   "outputs": [
    {
     "name": "stdout",
     "output_type": "stream",
     "text": [
      "Deleted Tweets = 419\n"
     ]
    }
   ],
   "source": [
    "tweets = get_tweet_df(tweets_id)"
   ]
  },
  {
   "cell_type": "code",
   "execution_count": 6,
   "metadata": {},
   "outputs": [
    {
     "data": {
      "text/html": [
       "<div>\n",
       "<style scoped>\n",
       "    .dataframe tbody tr th:only-of-type {\n",
       "        vertical-align: middle;\n",
       "    }\n",
       "\n",
       "    .dataframe tbody tr th {\n",
       "        vertical-align: top;\n",
       "    }\n",
       "\n",
       "    .dataframe thead th {\n",
       "        text-align: right;\n",
       "    }\n",
       "</style>\n",
       "<table border=\"1\" class=\"dataframe\">\n",
       "  <thead>\n",
       "    <tr style=\"text-align: right;\">\n",
       "      <th></th>\n",
       "      <th>screen_name</th>\n",
       "      <th>username</th>\n",
       "      <th>tweet_id</th>\n",
       "      <th>timestamp</th>\n",
       "      <th>text</th>\n",
       "      <th>hashtags</th>\n",
       "      <th>likes</th>\n",
       "      <th>retweets</th>\n",
       "      <th>replies</th>\n",
       "      <th>sentiment_score</th>\n",
       "      <th>city</th>\n",
       "      <th>state</th>\n",
       "    </tr>\n",
       "  </thead>\n",
       "  <tbody>\n",
       "    <tr>\n",
       "      <th>0</th>\n",
       "      <td>ChefHosea</td>\n",
       "      <td>Hosea Rosenberg</td>\n",
       "      <td>1254995208888094721</td>\n",
       "      <td>2020-04-28 04:45:49</td>\n",
       "      <td>Xmas in April covid19 edition @santoboulder #b...</td>\n",
       "      <td>[burrito, xmas, smotheredburrito, greenchile, ...</td>\n",
       "      <td>1</td>\n",
       "      <td>0</td>\n",
       "      <td>0</td>\n",
       "      <td>0.0000</td>\n",
       "      <td>Boulder</td>\n",
       "      <td>CO</td>\n",
       "    </tr>\n",
       "    <tr>\n",
       "      <th>1</th>\n",
       "      <td>Robin4ascii</td>\n",
       "      <td>Robin Hubbard</td>\n",
       "      <td>1254995485452050438</td>\n",
       "      <td>2020-04-28 04:46:55</td>\n",
       "      <td>@QUORA a sample of #Homework Topics Q&amp;A -- ask...</td>\n",
       "      <td>[Homework, schools, collegestudents, universit...</td>\n",
       "      <td>0</td>\n",
       "      <td>0</td>\n",
       "      <td>0</td>\n",
       "      <td>0.0000</td>\n",
       "      <td>Mountain View</td>\n",
       "      <td>CA</td>\n",
       "    </tr>\n",
       "    <tr>\n",
       "      <th>2</th>\n",
       "      <td>iam_ifegbolahan</td>\n",
       "      <td>Ise Owo Omogbolahan</td>\n",
       "      <td>1254995705527177216</td>\n",
       "      <td>2020-04-28 04:47:47</td>\n",
       "      <td>\"There is nothing more beautiful than someone ...</td>\n",
       "      <td>[covid_19, CoronaVirus, Art, IseOwoOmogbolahan...</td>\n",
       "      <td>1</td>\n",
       "      <td>0</td>\n",
       "      <td>0</td>\n",
       "      <td>0.5250</td>\n",
       "      <td>Ikeja</td>\n",
       "      <td>Nigeria</td>\n",
       "    </tr>\n",
       "    <tr>\n",
       "      <th>3</th>\n",
       "      <td>JC_RWRC</td>\n",
       "      <td>J.C.</td>\n",
       "      <td>1254995868333289475</td>\n",
       "      <td>2020-04-28 04:48:26</td>\n",
       "      <td>Another one in the books today for an AMAZING ...</td>\n",
       "      <td>[]</td>\n",
       "      <td>0</td>\n",
       "      <td>0</td>\n",
       "      <td>0</td>\n",
       "      <td>0.2875</td>\n",
       "      <td>Jonesboro</td>\n",
       "      <td>AR</td>\n",
       "    </tr>\n",
       "    <tr>\n",
       "      <th>4</th>\n",
       "      <td>harsh05710408</td>\n",
       "      <td>harsh vyas</td>\n",
       "      <td>1254996123514789893</td>\n",
       "      <td>2020-04-28 04:49:27</td>\n",
       "      <td>#gvkemri to fight against #covid19 @ GVK Emri ...</td>\n",
       "      <td>[gvkemri, covid19]</td>\n",
       "      <td>0</td>\n",
       "      <td>0</td>\n",
       "      <td>0</td>\n",
       "      <td>0.0000</td>\n",
       "      <td>Medchal</td>\n",
       "      <td>India</td>\n",
       "    </tr>\n",
       "  </tbody>\n",
       "</table>\n",
       "</div>"
      ],
      "text/plain": [
       "       screen_name             username             tweet_id  \\\n",
       "0        ChefHosea      Hosea Rosenberg  1254995208888094721   \n",
       "1      Robin4ascii        Robin Hubbard  1254995485452050438   \n",
       "2  iam_ifegbolahan  Ise Owo Omogbolahan  1254995705527177216   \n",
       "3          JC_RWRC                 J.C.  1254995868333289475   \n",
       "4    harsh05710408           harsh vyas  1254996123514789893   \n",
       "\n",
       "            timestamp                                               text  \\\n",
       "0 2020-04-28 04:45:49  Xmas in April covid19 edition @santoboulder #b...   \n",
       "1 2020-04-28 04:46:55  @QUORA a sample of #Homework Topics Q&A -- ask...   \n",
       "2 2020-04-28 04:47:47  \"There is nothing more beautiful than someone ...   \n",
       "3 2020-04-28 04:48:26  Another one in the books today for an AMAZING ...   \n",
       "4 2020-04-28 04:49:27  #gvkemri to fight against #covid19 @ GVK Emri ...   \n",
       "\n",
       "                                            hashtags  likes  retweets  \\\n",
       "0  [burrito, xmas, smotheredburrito, greenchile, ...      1         0   \n",
       "1  [Homework, schools, collegestudents, universit...      0         0   \n",
       "2  [covid_19, CoronaVirus, Art, IseOwoOmogbolahan...      1         0   \n",
       "3                                                 []      0         0   \n",
       "4                                 [gvkemri, covid19]      0         0   \n",
       "\n",
       "   replies  sentiment_score           city    state  \n",
       "0        0           0.0000        Boulder       CO  \n",
       "1        0           0.0000  Mountain View       CA  \n",
       "2        0           0.5250          Ikeja  Nigeria  \n",
       "3        0           0.2875      Jonesboro       AR  \n",
       "4        0           0.0000        Medchal    India  "
      ]
     },
     "execution_count": 6,
     "metadata": {},
     "output_type": "execute_result"
    }
   ],
   "source": [
    "tweets.head()"
   ]
  },
  {
   "cell_type": "code",
   "execution_count": 10,
   "metadata": {},
   "outputs": [
    {
     "data": {
      "text/plain": [
       "(12898, 12)"
      ]
     },
     "execution_count": 10,
     "metadata": {},
     "output_type": "execute_result"
    }
   ],
   "source": [
    "tweets.shape"
   ]
  },
  {
   "cell_type": "markdown",
   "metadata": {},
   "source": [
    "#### Saving this Data as a .CSV File "
   ]
  },
  {
   "cell_type": "code",
   "execution_count": 487,
   "metadata": {},
   "outputs": [],
   "source": [
    "tweets.to_csv(\"../data/tweets_all.csv\", index = False)"
   ]
  },
  {
   "cell_type": "markdown",
   "metadata": {},
   "source": [
    "### Selecting Tweets from Specific States Function"
   ]
  },
  {
   "cell_type": "code",
   "execution_count": 9,
   "metadata": {},
   "outputs": [],
   "source": [
    "# extract specific states from the cleaned data\n",
    "def get_states(data, states = []):\n",
    "    # instantiate empty list to place the dataframe of each state\n",
    "    df_list = []\n",
    "    # loop through the provided list of states and add the dataframe containing each state to the dataframe list\n",
    "    for i, state in enumerate(states):\n",
    "        df = data.loc[data['state'] == state]\n",
    "        df_list.append(df)\n",
    "    # create new dataframe by concatenating each dataframe in the datafame list\n",
    "    new_df = pd.concat(objs = df_list)\n",
    "    #return the dataframe of specified states\n",
    "    return new_df"
   ]
  },
  {
   "cell_type": "markdown",
   "metadata": {},
   "source": [
    "### Selecting Tweets from New York and Texas"
   ]
  },
  {
   "cell_type": "code",
   "execution_count": 8,
   "metadata": {},
   "outputs": [
    {
     "data": {
      "text/html": [
       "<div>\n",
       "<style scoped>\n",
       "    .dataframe tbody tr th:only-of-type {\n",
       "        vertical-align: middle;\n",
       "    }\n",
       "\n",
       "    .dataframe tbody tr th {\n",
       "        vertical-align: top;\n",
       "    }\n",
       "\n",
       "    .dataframe thead th {\n",
       "        text-align: right;\n",
       "    }\n",
       "</style>\n",
       "<table border=\"1\" class=\"dataframe\">\n",
       "  <thead>\n",
       "    <tr style=\"text-align: right;\">\n",
       "      <th></th>\n",
       "      <th>screen_name</th>\n",
       "      <th>username</th>\n",
       "      <th>tweet_id</th>\n",
       "      <th>timestamp</th>\n",
       "      <th>text</th>\n",
       "      <th>hashtags</th>\n",
       "      <th>likes</th>\n",
       "      <th>retweets</th>\n",
       "      <th>replies</th>\n",
       "      <th>sentiment_score</th>\n",
       "      <th>city</th>\n",
       "      <th>state</th>\n",
       "    </tr>\n",
       "  </thead>\n",
       "  <tbody>\n",
       "    <tr>\n",
       "      <th>5</th>\n",
       "      <td>BillBodouva</td>\n",
       "      <td>Real Estate BuyerRep</td>\n",
       "      <td>1254996305082036224</td>\n",
       "      <td>2020-04-28 04:50:10</td>\n",
       "      <td>Happy Birthday Mom!  You wouldn’t believe what...</td>\n",
       "      <td>[bestmom, bestfriend, happybirthday, 1son, cov...</td>\n",
       "      <td>0</td>\n",
       "      <td>0</td>\n",
       "      <td>0</td>\n",
       "      <td>0.313973</td>\n",
       "      <td>Sands Point</td>\n",
       "      <td>NY</td>\n",
       "    </tr>\n",
       "    <tr>\n",
       "      <th>13</th>\n",
       "      <td>zagnut99</td>\n",
       "      <td>Frank Zagottis</td>\n",
       "      <td>1254999586302820353</td>\n",
       "      <td>2020-04-28 05:03:12</td>\n",
       "      <td>Isolation dinners continue with Isabel’s roast...</td>\n",
       "      <td>[Dinner, Chicken, Isolation, IsolationDinner, ...</td>\n",
       "      <td>0</td>\n",
       "      <td>0</td>\n",
       "      <td>0</td>\n",
       "      <td>-0.600000</td>\n",
       "      <td>Queens</td>\n",
       "      <td>NY</td>\n",
       "    </tr>\n",
       "    <tr>\n",
       "      <th>23</th>\n",
       "      <td>johnnybebad666_</td>\n",
       "      <td>John Fitzgerald Kennedy Page®</td>\n",
       "      <td>1255004404723462146</td>\n",
       "      <td>2020-04-28 05:22:21</td>\n",
       "      <td>COVID-19 update \\nThis MTA BUS didn't pick me ...</td>\n",
       "      <td>[]</td>\n",
       "      <td>0</td>\n",
       "      <td>0</td>\n",
       "      <td>0</td>\n",
       "      <td>0.000000</td>\n",
       "      <td>Queens</td>\n",
       "      <td>NY</td>\n",
       "    </tr>\n",
       "    <tr>\n",
       "      <th>26</th>\n",
       "      <td>juanjeremy100</td>\n",
       "      <td>Cornerman Juan Jeremy</td>\n",
       "      <td>1255006251676831744</td>\n",
       "      <td>2020-04-28 05:29:41</td>\n",
       "      <td>When the #Cornerman confronts #COVID19 #Pneumo...</td>\n",
       "      <td>[Cornerman, COVID19, Pneumonia, coronavirus, c...</td>\n",
       "      <td>3</td>\n",
       "      <td>1</td>\n",
       "      <td>0</td>\n",
       "      <td>0.000000</td>\n",
       "      <td>Brooklyn</td>\n",
       "      <td>NY</td>\n",
       "    </tr>\n",
       "    <tr>\n",
       "      <th>239</th>\n",
       "      <td>officialdanek</td>\n",
       "      <td>Danèk</td>\n",
       "      <td>1255067181924134913</td>\n",
       "      <td>2020-04-28 09:31:48</td>\n",
       "      <td>Just chilling by the fire!  breeeee.x \\n.\\n.\\n...</td>\n",
       "      <td>[model, instagram, tiktok, picoftheday, ootd, ...</td>\n",
       "      <td>0</td>\n",
       "      <td>0</td>\n",
       "      <td>0</td>\n",
       "      <td>-0.262500</td>\n",
       "      <td>Manhattan</td>\n",
       "      <td>NY</td>\n",
       "    </tr>\n",
       "  </tbody>\n",
       "</table>\n",
       "</div>"
      ],
      "text/plain": [
       "         screen_name                       username             tweet_id  \\\n",
       "5        BillBodouva           Real Estate BuyerRep  1254996305082036224   \n",
       "13          zagnut99                 Frank Zagottis  1254999586302820353   \n",
       "23   johnnybebad666_  John Fitzgerald Kennedy Page®  1255004404723462146   \n",
       "26     juanjeremy100          Cornerman Juan Jeremy  1255006251676831744   \n",
       "239    officialdanek                          Danèk  1255067181924134913   \n",
       "\n",
       "              timestamp                                               text  \\\n",
       "5   2020-04-28 04:50:10  Happy Birthday Mom!  You wouldn’t believe what...   \n",
       "13  2020-04-28 05:03:12  Isolation dinners continue with Isabel’s roast...   \n",
       "23  2020-04-28 05:22:21  COVID-19 update \\nThis MTA BUS didn't pick me ...   \n",
       "26  2020-04-28 05:29:41  When the #Cornerman confronts #COVID19 #Pneumo...   \n",
       "239 2020-04-28 09:31:48  Just chilling by the fire!  breeeee.x \\n.\\n.\\n...   \n",
       "\n",
       "                                              hashtags  likes  retweets  \\\n",
       "5    [bestmom, bestfriend, happybirthday, 1son, cov...      0         0   \n",
       "13   [Dinner, Chicken, Isolation, IsolationDinner, ...      0         0   \n",
       "23                                                  []      0         0   \n",
       "26   [Cornerman, COVID19, Pneumonia, coronavirus, c...      3         1   \n",
       "239  [model, instagram, tiktok, picoftheday, ootd, ...      0         0   \n",
       "\n",
       "     replies  sentiment_score         city state  \n",
       "5          0         0.313973  Sands Point    NY  \n",
       "13         0        -0.600000       Queens    NY  \n",
       "23         0         0.000000       Queens    NY  \n",
       "26         0         0.000000     Brooklyn    NY  \n",
       "239        0        -0.262500    Manhattan    NY  "
      ]
     },
     "execution_count": 8,
     "metadata": {},
     "output_type": "execute_result"
    }
   ],
   "source": [
    "tweets_ny_tx = get_states(tweets, states=['NY', 'TX'])\n",
    "tweets_ny_tx.head()"
   ]
  },
  {
   "cell_type": "code",
   "execution_count": 11,
   "metadata": {},
   "outputs": [
    {
     "data": {
      "text/plain": [
       "(1731, 12)"
      ]
     },
     "execution_count": 11,
     "metadata": {},
     "output_type": "execute_result"
    }
   ],
   "source": [
    "tweets_ny_tx.shape"
   ]
  },
  {
   "cell_type": "code",
   "execution_count": 569,
   "metadata": {},
   "outputs": [],
   "source": [
    "tweets_ny_tx.drop_duplicates(subset=['tweet_id'], inplace=True)"
   ]
  },
  {
   "cell_type": "code",
   "execution_count": 5,
   "metadata": {},
   "outputs": [
    {
     "data": {
      "text/plain": [
       "(1727, 12)"
      ]
     },
     "execution_count": 5,
     "metadata": {},
     "output_type": "execute_result"
    }
   ],
   "source": [
    "tweets_ny_tx.shape"
   ]
  },
  {
   "cell_type": "markdown",
   "metadata": {},
   "source": [
    "#### Saving this Data in a .CSV File "
   ]
  },
  {
   "cell_type": "code",
   "execution_count": 571,
   "metadata": {},
   "outputs": [],
   "source": [
    "tweets_ny_tx.to_csv(\"../data/tweets_ny_tx.csv\", index = False)"
   ]
  },
  {
   "cell_type": "markdown",
   "metadata": {},
   "source": [
    "## Gatherting Covid-19 Occurences Data "
   ]
  },
  {
   "cell_type": "markdown",
   "metadata": {},
   "source": [
    "We will use a publically available dataset created by The New York Times and available [here](https://github.com/nytimes/covid-19-data). The New York Times provides information about the number of Covid-19 cases and deaths at the country, state, and county level. More specifically we used the `us-states.csv` and `us-counties.csv` files downloaded on 5/7/2020 and providing information up to 5/6/2020."
   ]
  },
  {
   "cell_type": "code",
   "execution_count": 6,
   "metadata": {},
   "outputs": [
    {
     "data": {
      "text/html": [
       "<div>\n",
       "<style scoped>\n",
       "    .dataframe tbody tr th:only-of-type {\n",
       "        vertical-align: middle;\n",
       "    }\n",
       "\n",
       "    .dataframe tbody tr th {\n",
       "        vertical-align: top;\n",
       "    }\n",
       "\n",
       "    .dataframe thead th {\n",
       "        text-align: right;\n",
       "    }\n",
       "</style>\n",
       "<table border=\"1\" class=\"dataframe\">\n",
       "  <thead>\n",
       "    <tr style=\"text-align: right;\">\n",
       "      <th></th>\n",
       "      <th>date</th>\n",
       "      <th>state</th>\n",
       "      <th>fips</th>\n",
       "      <th>cases</th>\n",
       "      <th>deaths</th>\n",
       "    </tr>\n",
       "  </thead>\n",
       "  <tbody>\n",
       "    <tr>\n",
       "      <th>0</th>\n",
       "      <td>2020-01-21</td>\n",
       "      <td>Washington</td>\n",
       "      <td>53</td>\n",
       "      <td>1</td>\n",
       "      <td>0</td>\n",
       "    </tr>\n",
       "    <tr>\n",
       "      <th>1</th>\n",
       "      <td>2020-01-22</td>\n",
       "      <td>Washington</td>\n",
       "      <td>53</td>\n",
       "      <td>1</td>\n",
       "      <td>0</td>\n",
       "    </tr>\n",
       "    <tr>\n",
       "      <th>2</th>\n",
       "      <td>2020-01-23</td>\n",
       "      <td>Washington</td>\n",
       "      <td>53</td>\n",
       "      <td>1</td>\n",
       "      <td>0</td>\n",
       "    </tr>\n",
       "    <tr>\n",
       "      <th>3</th>\n",
       "      <td>2020-01-24</td>\n",
       "      <td>Illinois</td>\n",
       "      <td>17</td>\n",
       "      <td>1</td>\n",
       "      <td>0</td>\n",
       "    </tr>\n",
       "    <tr>\n",
       "      <th>4</th>\n",
       "      <td>2020-01-24</td>\n",
       "      <td>Washington</td>\n",
       "      <td>53</td>\n",
       "      <td>1</td>\n",
       "      <td>0</td>\n",
       "    </tr>\n",
       "  </tbody>\n",
       "</table>\n",
       "</div>"
      ],
      "text/plain": [
       "         date       state  fips  cases  deaths\n",
       "0  2020-01-21  Washington    53      1       0\n",
       "1  2020-01-22  Washington    53      1       0\n",
       "2  2020-01-23  Washington    53      1       0\n",
       "3  2020-01-24    Illinois    17      1       0\n",
       "4  2020-01-24  Washington    53      1       0"
      ]
     },
     "execution_count": 6,
     "metadata": {},
     "output_type": "execute_result"
    }
   ],
   "source": [
    "covid_states = pd.read_csv(\"../data/us-states.csv\")\n",
    "covid_states.head()"
   ]
  },
  {
   "cell_type": "code",
   "execution_count": 7,
   "metadata": {
    "scrolled": true
   },
   "outputs": [
    {
     "data": {
      "text/html": [
       "<div>\n",
       "<style scoped>\n",
       "    .dataframe tbody tr th:only-of-type {\n",
       "        vertical-align: middle;\n",
       "    }\n",
       "\n",
       "    .dataframe tbody tr th {\n",
       "        vertical-align: top;\n",
       "    }\n",
       "\n",
       "    .dataframe thead th {\n",
       "        text-align: right;\n",
       "    }\n",
       "</style>\n",
       "<table border=\"1\" class=\"dataframe\">\n",
       "  <thead>\n",
       "    <tr style=\"text-align: right;\">\n",
       "      <th></th>\n",
       "      <th>date</th>\n",
       "      <th>county</th>\n",
       "      <th>state</th>\n",
       "      <th>fips</th>\n",
       "      <th>cases</th>\n",
       "      <th>deaths</th>\n",
       "    </tr>\n",
       "  </thead>\n",
       "  <tbody>\n",
       "    <tr>\n",
       "      <th>0</th>\n",
       "      <td>2020-01-21</td>\n",
       "      <td>Snohomish</td>\n",
       "      <td>Washington</td>\n",
       "      <td>53061.0</td>\n",
       "      <td>1</td>\n",
       "      <td>0</td>\n",
       "    </tr>\n",
       "    <tr>\n",
       "      <th>1</th>\n",
       "      <td>2020-01-22</td>\n",
       "      <td>Snohomish</td>\n",
       "      <td>Washington</td>\n",
       "      <td>53061.0</td>\n",
       "      <td>1</td>\n",
       "      <td>0</td>\n",
       "    </tr>\n",
       "    <tr>\n",
       "      <th>2</th>\n",
       "      <td>2020-01-23</td>\n",
       "      <td>Snohomish</td>\n",
       "      <td>Washington</td>\n",
       "      <td>53061.0</td>\n",
       "      <td>1</td>\n",
       "      <td>0</td>\n",
       "    </tr>\n",
       "    <tr>\n",
       "      <th>3</th>\n",
       "      <td>2020-01-24</td>\n",
       "      <td>Cook</td>\n",
       "      <td>Illinois</td>\n",
       "      <td>17031.0</td>\n",
       "      <td>1</td>\n",
       "      <td>0</td>\n",
       "    </tr>\n",
       "    <tr>\n",
       "      <th>4</th>\n",
       "      <td>2020-01-24</td>\n",
       "      <td>Snohomish</td>\n",
       "      <td>Washington</td>\n",
       "      <td>53061.0</td>\n",
       "      <td>1</td>\n",
       "      <td>0</td>\n",
       "    </tr>\n",
       "  </tbody>\n",
       "</table>\n",
       "</div>"
      ],
      "text/plain": [
       "         date     county       state     fips  cases  deaths\n",
       "0  2020-01-21  Snohomish  Washington  53061.0      1       0\n",
       "1  2020-01-22  Snohomish  Washington  53061.0      1       0\n",
       "2  2020-01-23  Snohomish  Washington  53061.0      1       0\n",
       "3  2020-01-24       Cook    Illinois  17031.0      1       0\n",
       "4  2020-01-24  Snohomish  Washington  53061.0      1       0"
      ]
     },
     "execution_count": 7,
     "metadata": {},
     "output_type": "execute_result"
    }
   ],
   "source": [
    "covid_counties = pd.read_csv(\"../data/us-counties.csv\")\n",
    "covid_counties.head()"
   ]
  },
  {
   "cell_type": "markdown",
   "metadata": {},
   "source": [
    "### Selecting Covid-19 Data for New York and Texas"
   ]
  },
  {
   "cell_type": "code",
   "execution_count": 10,
   "metadata": {},
   "outputs": [],
   "source": [
    "covid_states_ny_tx_all_dates = get_states(covid_states, states=['New York', 'Texas']) "
   ]
  },
  {
   "cell_type": "code",
   "execution_count": 11,
   "metadata": {},
   "outputs": [],
   "source": [
    "covid_counties_ny_tx_all_dates = get_states(covid_counties, states=['New York', 'Texas'])"
   ]
  },
  {
   "cell_type": "markdown",
   "metadata": {},
   "source": [
    "### Selecting Information from April 28th to May 6th 2020"
   ]
  },
  {
   "cell_type": "code",
   "execution_count": 12,
   "metadata": {},
   "outputs": [],
   "source": [
    "def get_dates(data):\n",
    "    data_date = data[data['date']>='2020-04-28']\n",
    "    return data_date"
   ]
  },
  {
   "cell_type": "code",
   "execution_count": 13,
   "metadata": {
    "scrolled": true
   },
   "outputs": [
    {
     "data": {
      "text/html": [
       "<div>\n",
       "<style scoped>\n",
       "    .dataframe tbody tr th:only-of-type {\n",
       "        vertical-align: middle;\n",
       "    }\n",
       "\n",
       "    .dataframe tbody tr th {\n",
       "        vertical-align: top;\n",
       "    }\n",
       "\n",
       "    .dataframe thead th {\n",
       "        text-align: right;\n",
       "    }\n",
       "</style>\n",
       "<table border=\"1\" class=\"dataframe\">\n",
       "  <thead>\n",
       "    <tr style=\"text-align: right;\">\n",
       "      <th></th>\n",
       "      <th>date</th>\n",
       "      <th>state</th>\n",
       "      <th>fips</th>\n",
       "      <th>cases</th>\n",
       "      <th>deaths</th>\n",
       "    </tr>\n",
       "  </thead>\n",
       "  <tbody>\n",
       "    <tr>\n",
       "      <th>3127</th>\n",
       "      <td>2020-04-28</td>\n",
       "      <td>New York</td>\n",
       "      <td>36</td>\n",
       "      <td>295137</td>\n",
       "      <td>17638</td>\n",
       "    </tr>\n",
       "    <tr>\n",
       "      <th>3182</th>\n",
       "      <td>2020-04-29</td>\n",
       "      <td>New York</td>\n",
       "      <td>36</td>\n",
       "      <td>299722</td>\n",
       "      <td>18015</td>\n",
       "    </tr>\n",
       "    <tr>\n",
       "      <th>3237</th>\n",
       "      <td>2020-04-30</td>\n",
       "      <td>New York</td>\n",
       "      <td>36</td>\n",
       "      <td>304401</td>\n",
       "      <td>18321</td>\n",
       "    </tr>\n",
       "    <tr>\n",
       "      <th>3292</th>\n",
       "      <td>2020-05-01</td>\n",
       "      <td>New York</td>\n",
       "      <td>36</td>\n",
       "      <td>308345</td>\n",
       "      <td>18610</td>\n",
       "    </tr>\n",
       "    <tr>\n",
       "      <th>3347</th>\n",
       "      <td>2020-05-02</td>\n",
       "      <td>New York</td>\n",
       "      <td>36</td>\n",
       "      <td>313008</td>\n",
       "      <td>18909</td>\n",
       "    </tr>\n",
       "  </tbody>\n",
       "</table>\n",
       "</div>"
      ],
      "text/plain": [
       "            date     state  fips   cases  deaths\n",
       "3127  2020-04-28  New York    36  295137   17638\n",
       "3182  2020-04-29  New York    36  299722   18015\n",
       "3237  2020-04-30  New York    36  304401   18321\n",
       "3292  2020-05-01  New York    36  308345   18610\n",
       "3347  2020-05-02  New York    36  313008   18909"
      ]
     },
     "execution_count": 13,
     "metadata": {},
     "output_type": "execute_result"
    }
   ],
   "source": [
    "covid_states_ny_tx = get_dates(covid_states_ny_tx_all_dates)\n",
    "covid_states_ny_tx.head()"
   ]
  },
  {
   "cell_type": "code",
   "execution_count": 14,
   "metadata": {},
   "outputs": [
    {
     "data": {
      "text/plain": [
       "(18, 5)"
      ]
     },
     "execution_count": 14,
     "metadata": {},
     "output_type": "execute_result"
    }
   ],
   "source": [
    "covid_states_ny_tx.shape"
   ]
  },
  {
   "cell_type": "code",
   "execution_count": 15,
   "metadata": {
    "scrolled": true
   },
   "outputs": [
    {
     "data": {
      "text/html": [
       "<div>\n",
       "<style scoped>\n",
       "    .dataframe tbody tr th:only-of-type {\n",
       "        vertical-align: middle;\n",
       "    }\n",
       "\n",
       "    .dataframe tbody tr th {\n",
       "        vertical-align: top;\n",
       "    }\n",
       "\n",
       "    .dataframe thead th {\n",
       "        text-align: right;\n",
       "    }\n",
       "</style>\n",
       "<table border=\"1\" class=\"dataframe\">\n",
       "  <thead>\n",
       "    <tr style=\"text-align: right;\">\n",
       "      <th></th>\n",
       "      <th>date</th>\n",
       "      <th>county</th>\n",
       "      <th>state</th>\n",
       "      <th>fips</th>\n",
       "      <th>cases</th>\n",
       "      <th>deaths</th>\n",
       "    </tr>\n",
       "  </thead>\n",
       "  <tbody>\n",
       "    <tr>\n",
       "      <th>96890</th>\n",
       "      <td>2020-04-28</td>\n",
       "      <td>Albany</td>\n",
       "      <td>New York</td>\n",
       "      <td>36001.0</td>\n",
       "      <td>1009</td>\n",
       "      <td>45</td>\n",
       "    </tr>\n",
       "    <tr>\n",
       "      <th>96891</th>\n",
       "      <td>2020-04-28</td>\n",
       "      <td>Allegany</td>\n",
       "      <td>New York</td>\n",
       "      <td>36003.0</td>\n",
       "      <td>35</td>\n",
       "      <td>0</td>\n",
       "    </tr>\n",
       "    <tr>\n",
       "      <th>96892</th>\n",
       "      <td>2020-04-28</td>\n",
       "      <td>Broome</td>\n",
       "      <td>New York</td>\n",
       "      <td>36007.0</td>\n",
       "      <td>266</td>\n",
       "      <td>15</td>\n",
       "    </tr>\n",
       "    <tr>\n",
       "      <th>96893</th>\n",
       "      <td>2020-04-28</td>\n",
       "      <td>Cattaraugus</td>\n",
       "      <td>New York</td>\n",
       "      <td>36009.0</td>\n",
       "      <td>45</td>\n",
       "      <td>1</td>\n",
       "    </tr>\n",
       "    <tr>\n",
       "      <th>96894</th>\n",
       "      <td>2020-04-28</td>\n",
       "      <td>Cayuga</td>\n",
       "      <td>New York</td>\n",
       "      <td>36011.0</td>\n",
       "      <td>48</td>\n",
       "      <td>1</td>\n",
       "    </tr>\n",
       "  </tbody>\n",
       "</table>\n",
       "</div>"
      ],
      "text/plain": [
       "             date       county     state     fips  cases  deaths\n",
       "96890  2020-04-28       Albany  New York  36001.0   1009      45\n",
       "96891  2020-04-28     Allegany  New York  36003.0     35       0\n",
       "96892  2020-04-28       Broome  New York  36007.0    266      15\n",
       "96893  2020-04-28  Cattaraugus  New York  36009.0     45       1\n",
       "96894  2020-04-28       Cayuga  New York  36011.0     48       1"
      ]
     },
     "execution_count": 15,
     "metadata": {},
     "output_type": "execute_result"
    }
   ],
   "source": [
    "covid_counties_ny_tx = get_dates(covid_counties_ny_tx_all_dates)\n",
    "covid_counties_ny_tx.head()"
   ]
  },
  {
   "cell_type": "code",
   "execution_count": 16,
   "metadata": {},
   "outputs": [
    {
     "data": {
      "text/plain": [
       "(2425, 6)"
      ]
     },
     "execution_count": 16,
     "metadata": {},
     "output_type": "execute_result"
    }
   ],
   "source": [
    "covid_counties_ny_tx.shape"
   ]
  },
  {
   "cell_type": "markdown",
   "metadata": {},
   "source": [
    "### Combining State and County Data "
   ]
  },
  {
   "cell_type": "code",
   "execution_count": 17,
   "metadata": {},
   "outputs": [],
   "source": [
    "def combine_state_county(state_df, county_df):\n",
    "    df_list = []\n",
    "    # loop through the provided list of states and add the dataframe containing each state to the dataframe list\n",
    "    for state in ['New York', 'Texas']:\n",
    "        state_data = state_df[state_df['state'] == state]\n",
    "        county_data = county_df[county_df['state'] == state]\n",
    "        df = pd.merge(left=county_data, right=state_data, on='date')\n",
    "        df_list.append(df)\n",
    "    # create new dataframe by concatenating each dataframe in the datafame list\n",
    "    new_df = pd.concat(objs = df_list)\n",
    "    new_df.drop(columns=['state_y'], inplace=True)\n",
    "    new_df.rename(columns={'state_x':'state','fips_x':'county_fips', 'cases_x':'county_cases',\n",
    "                           'deaths_x':'county_deaths', 'fips_y':'state_fips',\n",
    "                           'cases_y':'state_cases', 'deaths_y':'state_deaths'}, inplace=True)\n",
    "    #return the dataframe of specified states\n",
    "    return new_df"
   ]
  },
  {
   "cell_type": "code",
   "execution_count": 18,
   "metadata": {
    "scrolled": true
   },
   "outputs": [
    {
     "data": {
      "text/html": [
       "<div>\n",
       "<style scoped>\n",
       "    .dataframe tbody tr th:only-of-type {\n",
       "        vertical-align: middle;\n",
       "    }\n",
       "\n",
       "    .dataframe tbody tr th {\n",
       "        vertical-align: top;\n",
       "    }\n",
       "\n",
       "    .dataframe thead th {\n",
       "        text-align: right;\n",
       "    }\n",
       "</style>\n",
       "<table border=\"1\" class=\"dataframe\">\n",
       "  <thead>\n",
       "    <tr style=\"text-align: right;\">\n",
       "      <th></th>\n",
       "      <th>date</th>\n",
       "      <th>county</th>\n",
       "      <th>state</th>\n",
       "      <th>county_fips</th>\n",
       "      <th>county_cases</th>\n",
       "      <th>county_deaths</th>\n",
       "      <th>state_fips</th>\n",
       "      <th>state_cases</th>\n",
       "      <th>state_deaths</th>\n",
       "    </tr>\n",
       "  </thead>\n",
       "  <tbody>\n",
       "    <tr>\n",
       "      <th>0</th>\n",
       "      <td>2020-04-28</td>\n",
       "      <td>Albany</td>\n",
       "      <td>New York</td>\n",
       "      <td>36001.0</td>\n",
       "      <td>1009</td>\n",
       "      <td>45</td>\n",
       "      <td>36</td>\n",
       "      <td>295137</td>\n",
       "      <td>17638</td>\n",
       "    </tr>\n",
       "    <tr>\n",
       "      <th>1</th>\n",
       "      <td>2020-04-28</td>\n",
       "      <td>Allegany</td>\n",
       "      <td>New York</td>\n",
       "      <td>36003.0</td>\n",
       "      <td>35</td>\n",
       "      <td>0</td>\n",
       "      <td>36</td>\n",
       "      <td>295137</td>\n",
       "      <td>17638</td>\n",
       "    </tr>\n",
       "  </tbody>\n",
       "</table>\n",
       "</div>"
      ],
      "text/plain": [
       "         date    county     state  county_fips  county_cases  county_deaths  \\\n",
       "0  2020-04-28    Albany  New York      36001.0          1009             45   \n",
       "1  2020-04-28  Allegany  New York      36003.0            35              0   \n",
       "\n",
       "   state_fips  state_cases  state_deaths  \n",
       "0          36       295137         17638  \n",
       "1          36       295137         17638  "
      ]
     },
     "execution_count": 18,
     "metadata": {},
     "output_type": "execute_result"
    }
   ],
   "source": [
    "covid_ny_tx = combine_state_county(covid_states_ny_tx, covid_counties_ny_tx)\n",
    "covid_ny_tx.head(2)"
   ]
  },
  {
   "cell_type": "code",
   "execution_count": 19,
   "metadata": {},
   "outputs": [
    {
     "data": {
      "text/plain": [
       "(2425, 9)"
      ]
     },
     "execution_count": 19,
     "metadata": {},
     "output_type": "execute_result"
    }
   ],
   "source": [
    "covid_ny_tx.shape"
   ]
  },
  {
   "cell_type": "markdown",
   "metadata": {},
   "source": [
    "According to information from The New York Times, all cases for the five boroughs of New York City (New York, Kings, Queens, Bronx and Richmond counties) were assigned to a single area called `New York City`. Since this area is not officially recognized, it does not have a fip and `county_fips` is set to `NaN` for those rows.  \n",
    "In order to be able to merge covid data with population data later on, we need to assign a fip to this New York City area. We will assign fip `36000` (this fip does not actually exist) to the New York City area. "
   ]
  },
  {
   "cell_type": "code",
   "execution_count": 20,
   "metadata": {},
   "outputs": [],
   "source": [
    "covid_ny_tx['county_fips'].fillna(36000, inplace=True)"
   ]
  },
  {
   "cell_type": "code",
   "execution_count": 21,
   "metadata": {},
   "outputs": [],
   "source": [
    "covid_ny_tx['county_fips'] = covid_ny_tx['county_fips'].astype(int)"
   ]
  },
  {
   "cell_type": "markdown",
   "metadata": {},
   "source": [
    "## Gathering Population Data "
   ]
  },
  {
   "cell_type": "markdown",
   "metadata": {},
   "source": [
    "Note: includes data for all state as a row where county is name of state. \n",
    "Need to delete that row and include information in a new column instead. "
   ]
  },
  {
   "cell_type": "code",
   "execution_count": 22,
   "metadata": {
    "scrolled": true
   },
   "outputs": [
    {
     "data": {
      "text/html": [
       "<div>\n",
       "<style scoped>\n",
       "    .dataframe tbody tr th:only-of-type {\n",
       "        vertical-align: middle;\n",
       "    }\n",
       "\n",
       "    .dataframe tbody tr th {\n",
       "        vertical-align: top;\n",
       "    }\n",
       "\n",
       "    .dataframe thead th {\n",
       "        text-align: right;\n",
       "    }\n",
       "</style>\n",
       "<table border=\"1\" class=\"dataframe\">\n",
       "  <thead>\n",
       "    <tr style=\"text-align: right;\">\n",
       "      <th></th>\n",
       "      <th>STATE</th>\n",
       "      <th>COUNTY</th>\n",
       "      <th>STNAME</th>\n",
       "      <th>CTYNAME</th>\n",
       "      <th>POPESTIMATE2019</th>\n",
       "    </tr>\n",
       "  </thead>\n",
       "  <tbody>\n",
       "    <tr>\n",
       "      <th>0</th>\n",
       "      <td>1</td>\n",
       "      <td>0</td>\n",
       "      <td>Alabama</td>\n",
       "      <td>Alabama</td>\n",
       "      <td>4903185</td>\n",
       "    </tr>\n",
       "    <tr>\n",
       "      <th>1</th>\n",
       "      <td>1</td>\n",
       "      <td>1</td>\n",
       "      <td>Alabama</td>\n",
       "      <td>Autauga County</td>\n",
       "      <td>55869</td>\n",
       "    </tr>\n",
       "    <tr>\n",
       "      <th>2</th>\n",
       "      <td>1</td>\n",
       "      <td>3</td>\n",
       "      <td>Alabama</td>\n",
       "      <td>Baldwin County</td>\n",
       "      <td>223234</td>\n",
       "    </tr>\n",
       "    <tr>\n",
       "      <th>3</th>\n",
       "      <td>1</td>\n",
       "      <td>5</td>\n",
       "      <td>Alabama</td>\n",
       "      <td>Barbour County</td>\n",
       "      <td>24686</td>\n",
       "    </tr>\n",
       "    <tr>\n",
       "      <th>4</th>\n",
       "      <td>1</td>\n",
       "      <td>7</td>\n",
       "      <td>Alabama</td>\n",
       "      <td>Bibb County</td>\n",
       "      <td>22394</td>\n",
       "    </tr>\n",
       "  </tbody>\n",
       "</table>\n",
       "</div>"
      ],
      "text/plain": [
       "   STATE  COUNTY   STNAME         CTYNAME  POPESTIMATE2019\n",
       "0      1       0  Alabama         Alabama          4903185\n",
       "1      1       1  Alabama  Autauga County            55869\n",
       "2      1       3  Alabama  Baldwin County           223234\n",
       "3      1       5  Alabama  Barbour County            24686\n",
       "4      1       7  Alabama     Bibb County            22394"
      ]
     },
     "execution_count": 22,
     "metadata": {},
     "output_type": "execute_result"
    }
   ],
   "source": [
    "population = pd.read_csv('../data/co-est2019-alldata.csv', usecols=['STATE', 'COUNTY', 'STNAME', 'CTYNAME', 'POPESTIMATE2019'], encoding = \"ISO-8859-1\", engine='python')\n",
    "population.head()"
   ]
  },
  {
   "cell_type": "markdown",
   "metadata": {},
   "source": [
    "### Selection Population Data for New York and Texas"
   ]
  },
  {
   "cell_type": "code",
   "execution_count": 23,
   "metadata": {},
   "outputs": [],
   "source": [
    "def format_population(df):\n",
    "    #renaming columns to match our formating \n",
    "    df.rename(columns={'STATE':'state_fips', 'COUNTY':'county_fips', 'STNAME':'state', 'CTYNAME':'county', 'POPESTIMATE2019':'county_population'}, inplace=True)\n",
    "    #selecting information for NY and TX\n",
    "    df = get_states(df, states=['New York', 'Texas'])\n",
    "    #reformating county fips to match covid dataframe format\n",
    "    for i,fip in enumerate(df['county_fips']):\n",
    "        if len(str(fip)) == 1:\n",
    "            df.iloc[i,1] = int(str(df.iloc[i,0])+\"00\"+str(fip))\n",
    "        if len(str(fip)) == 2:\n",
    "            df.iloc[i,1] = int(str(df.iloc[i,0])+\"0\"+str(fip))\n",
    "        if len(str(fip)) == 3:\n",
    "            df.iloc[i,1] = int(str(df.iloc[i,0])+str(fip))\n",
    "    #creating a state_population column\n",
    "    df['state_population'] = [df[df['county']=='Texas']['county_population'].values[0] if x == 'Texas' else df[df['county']=='New York']['county_population'].values[0] for x in df['state']]\n",
    "        # code adapted from https://stackoverflow.com/questions/50375985/pandas-add-column-with-value-based-on-condition-based-on-other-columns\n",
    "    #deleting rows giving state population data instead of county data\n",
    "    for state in ['New York', 'Texas']:\n",
    "        df = df.drop(df[\"county\"].loc[df[\"county\"]==state].index)\n",
    "        # code adapted from https://stackoverflow.com/questions/53182464/pandas-delete-a-row-in-a-dataframe-based-on-a-value\n",
    "    #adding `New York City` county row compiling the information from NYC 5 boroughs to match the covid dataset format\n",
    "    d = {'state_fips':36, 'county_fips':36000, 'state':'New York', 'county':'New York City', \n",
    "     'county_population':[df[df['county']=='New York County']['county_population'].values[0] + \n",
    "                         df[df['county']=='Kings County']['county_population'].values[0] + \n",
    "                         df[df['county']=='Bronx County']['county_population'].values[0] + \n",
    "                         df[df['county']=='Richmond County']['county_population'].values[0] +\n",
    "                         df[df['county']=='Queens County']['county_population'].values[0]], \n",
    "     'state_population':19453561}\n",
    "    population_nyc = pd.DataFrame(data=d)\n",
    "    df = pd.concat(objs=[df, population_nyc])\n",
    "    return df "
   ]
  },
  {
   "cell_type": "code",
   "execution_count": 24,
   "metadata": {},
   "outputs": [],
   "source": [
    "population_ny_tx = format_population(population)"
   ]
  },
  {
   "cell_type": "code",
   "execution_count": 25,
   "metadata": {
    "scrolled": true
   },
   "outputs": [
    {
     "data": {
      "text/html": [
       "<div>\n",
       "<style scoped>\n",
       "    .dataframe tbody tr th:only-of-type {\n",
       "        vertical-align: middle;\n",
       "    }\n",
       "\n",
       "    .dataframe tbody tr th {\n",
       "        vertical-align: top;\n",
       "    }\n",
       "\n",
       "    .dataframe thead th {\n",
       "        text-align: right;\n",
       "    }\n",
       "</style>\n",
       "<table border=\"1\" class=\"dataframe\">\n",
       "  <thead>\n",
       "    <tr style=\"text-align: right;\">\n",
       "      <th></th>\n",
       "      <th>state_fips</th>\n",
       "      <th>county_fips</th>\n",
       "      <th>state</th>\n",
       "      <th>county</th>\n",
       "      <th>county_population</th>\n",
       "      <th>state_population</th>\n",
       "    </tr>\n",
       "  </thead>\n",
       "  <tbody>\n",
       "    <tr>\n",
       "      <th>1861</th>\n",
       "      <td>36</td>\n",
       "      <td>36001</td>\n",
       "      <td>New York</td>\n",
       "      <td>Albany County</td>\n",
       "      <td>305506</td>\n",
       "      <td>19453561</td>\n",
       "    </tr>\n",
       "    <tr>\n",
       "      <th>1862</th>\n",
       "      <td>36</td>\n",
       "      <td>36003</td>\n",
       "      <td>New York</td>\n",
       "      <td>Allegany County</td>\n",
       "      <td>46091</td>\n",
       "      <td>19453561</td>\n",
       "    </tr>\n",
       "    <tr>\n",
       "      <th>1863</th>\n",
       "      <td>36</td>\n",
       "      <td>36005</td>\n",
       "      <td>New York</td>\n",
       "      <td>Bronx County</td>\n",
       "      <td>1418207</td>\n",
       "      <td>19453561</td>\n",
       "    </tr>\n",
       "    <tr>\n",
       "      <th>1864</th>\n",
       "      <td>36</td>\n",
       "      <td>36007</td>\n",
       "      <td>New York</td>\n",
       "      <td>Broome County</td>\n",
       "      <td>190488</td>\n",
       "      <td>19453561</td>\n",
       "    </tr>\n",
       "    <tr>\n",
       "      <th>1865</th>\n",
       "      <td>36</td>\n",
       "      <td>36009</td>\n",
       "      <td>New York</td>\n",
       "      <td>Cattaraugus County</td>\n",
       "      <td>76117</td>\n",
       "      <td>19453561</td>\n",
       "    </tr>\n",
       "  </tbody>\n",
       "</table>\n",
       "</div>"
      ],
      "text/plain": [
       "      state_fips  county_fips     state              county  \\\n",
       "1861          36        36001  New York       Albany County   \n",
       "1862          36        36003  New York     Allegany County   \n",
       "1863          36        36005  New York        Bronx County   \n",
       "1864          36        36007  New York       Broome County   \n",
       "1865          36        36009  New York  Cattaraugus County   \n",
       "\n",
       "      county_population  state_population  \n",
       "1861             305506          19453561  \n",
       "1862              46091          19453561  \n",
       "1863            1418207          19453561  \n",
       "1864             190488          19453561  \n",
       "1865              76117          19453561  "
      ]
     },
     "execution_count": 25,
     "metadata": {},
     "output_type": "execute_result"
    }
   ],
   "source": [
    "population_ny_tx.head()"
   ]
  },
  {
   "cell_type": "code",
   "execution_count": 26,
   "metadata": {},
   "outputs": [
    {
     "data": {
      "text/plain": [
       "(317, 6)"
      ]
     },
     "execution_count": 26,
     "metadata": {},
     "output_type": "execute_result"
    }
   ],
   "source": [
    "population_ny_tx.shape"
   ]
  },
  {
   "cell_type": "markdown",
   "metadata": {},
   "source": [
    "### Combining Covid-19 and Population Data "
   ]
  },
  {
   "cell_type": "code",
   "execution_count": 27,
   "metadata": {},
   "outputs": [
    {
     "data": {
      "text/html": [
       "<div>\n",
       "<style scoped>\n",
       "    .dataframe tbody tr th:only-of-type {\n",
       "        vertical-align: middle;\n",
       "    }\n",
       "\n",
       "    .dataframe tbody tr th {\n",
       "        vertical-align: top;\n",
       "    }\n",
       "\n",
       "    .dataframe thead th {\n",
       "        text-align: right;\n",
       "    }\n",
       "</style>\n",
       "<table border=\"1\" class=\"dataframe\">\n",
       "  <thead>\n",
       "    <tr style=\"text-align: right;\">\n",
       "      <th></th>\n",
       "      <th>date</th>\n",
       "      <th>county_x</th>\n",
       "      <th>state_x</th>\n",
       "      <th>county_fips</th>\n",
       "      <th>county_cases</th>\n",
       "      <th>county_deaths</th>\n",
       "      <th>state_fips_x</th>\n",
       "      <th>state_cases</th>\n",
       "      <th>state_deaths</th>\n",
       "      <th>state_fips_y</th>\n",
       "      <th>state_y</th>\n",
       "      <th>county_y</th>\n",
       "      <th>county_population</th>\n",
       "      <th>state_population</th>\n",
       "    </tr>\n",
       "  </thead>\n",
       "  <tbody>\n",
       "    <tr>\n",
       "      <th>0</th>\n",
       "      <td>2020-04-28</td>\n",
       "      <td>Albany</td>\n",
       "      <td>New York</td>\n",
       "      <td>36001</td>\n",
       "      <td>1009</td>\n",
       "      <td>45</td>\n",
       "      <td>36</td>\n",
       "      <td>295137</td>\n",
       "      <td>17638</td>\n",
       "      <td>36</td>\n",
       "      <td>New York</td>\n",
       "      <td>Albany County</td>\n",
       "      <td>305506</td>\n",
       "      <td>19453561</td>\n",
       "    </tr>\n",
       "    <tr>\n",
       "      <th>1</th>\n",
       "      <td>2020-04-29</td>\n",
       "      <td>Albany</td>\n",
       "      <td>New York</td>\n",
       "      <td>36001</td>\n",
       "      <td>1067</td>\n",
       "      <td>47</td>\n",
       "      <td>36</td>\n",
       "      <td>299722</td>\n",
       "      <td>18015</td>\n",
       "      <td>36</td>\n",
       "      <td>New York</td>\n",
       "      <td>Albany County</td>\n",
       "      <td>305506</td>\n",
       "      <td>19453561</td>\n",
       "    </tr>\n",
       "    <tr>\n",
       "      <th>2</th>\n",
       "      <td>2020-04-30</td>\n",
       "      <td>Albany</td>\n",
       "      <td>New York</td>\n",
       "      <td>36001</td>\n",
       "      <td>1165</td>\n",
       "      <td>53</td>\n",
       "      <td>36</td>\n",
       "      <td>304401</td>\n",
       "      <td>18321</td>\n",
       "      <td>36</td>\n",
       "      <td>New York</td>\n",
       "      <td>Albany County</td>\n",
       "      <td>305506</td>\n",
       "      <td>19453561</td>\n",
       "    </tr>\n",
       "    <tr>\n",
       "      <th>3</th>\n",
       "      <td>2020-05-01</td>\n",
       "      <td>Albany</td>\n",
       "      <td>New York</td>\n",
       "      <td>36001</td>\n",
       "      <td>1204</td>\n",
       "      <td>55</td>\n",
       "      <td>36</td>\n",
       "      <td>308345</td>\n",
       "      <td>18610</td>\n",
       "      <td>36</td>\n",
       "      <td>New York</td>\n",
       "      <td>Albany County</td>\n",
       "      <td>305506</td>\n",
       "      <td>19453561</td>\n",
       "    </tr>\n",
       "    <tr>\n",
       "      <th>4</th>\n",
       "      <td>2020-05-02</td>\n",
       "      <td>Albany</td>\n",
       "      <td>New York</td>\n",
       "      <td>36001</td>\n",
       "      <td>1238</td>\n",
       "      <td>60</td>\n",
       "      <td>36</td>\n",
       "      <td>313008</td>\n",
       "      <td>18909</td>\n",
       "      <td>36</td>\n",
       "      <td>New York</td>\n",
       "      <td>Albany County</td>\n",
       "      <td>305506</td>\n",
       "      <td>19453561</td>\n",
       "    </tr>\n",
       "  </tbody>\n",
       "</table>\n",
       "</div>"
      ],
      "text/plain": [
       "         date county_x   state_x  county_fips  county_cases  county_deaths  \\\n",
       "0  2020-04-28   Albany  New York        36001          1009             45   \n",
       "1  2020-04-29   Albany  New York        36001          1067             47   \n",
       "2  2020-04-30   Albany  New York        36001          1165             53   \n",
       "3  2020-05-01   Albany  New York        36001          1204             55   \n",
       "4  2020-05-02   Albany  New York        36001          1238             60   \n",
       "\n",
       "   state_fips_x  state_cases  state_deaths  state_fips_y   state_y  \\\n",
       "0            36       295137         17638            36  New York   \n",
       "1            36       299722         18015            36  New York   \n",
       "2            36       304401         18321            36  New York   \n",
       "3            36       308345         18610            36  New York   \n",
       "4            36       313008         18909            36  New York   \n",
       "\n",
       "        county_y  county_population  state_population  \n",
       "0  Albany County             305506          19453561  \n",
       "1  Albany County             305506          19453561  \n",
       "2  Albany County             305506          19453561  \n",
       "3  Albany County             305506          19453561  \n",
       "4  Albany County             305506          19453561  "
      ]
     },
     "execution_count": 27,
     "metadata": {},
     "output_type": "execute_result"
    }
   ],
   "source": [
    "covid_and_pop_ny_tx = pd.merge(left=covid_ny_tx, right=population_ny_tx, on='county_fips')\n",
    "covid_and_pop_ny_tx.head()"
   ]
  },
  {
   "cell_type": "code",
   "execution_count": 28,
   "metadata": {},
   "outputs": [
    {
     "data": {
      "text/html": [
       "<div>\n",
       "<style scoped>\n",
       "    .dataframe tbody tr th:only-of-type {\n",
       "        vertical-align: middle;\n",
       "    }\n",
       "\n",
       "    .dataframe tbody tr th {\n",
       "        vertical-align: top;\n",
       "    }\n",
       "\n",
       "    .dataframe thead th {\n",
       "        text-align: right;\n",
       "    }\n",
       "</style>\n",
       "<table border=\"1\" class=\"dataframe\">\n",
       "  <thead>\n",
       "    <tr style=\"text-align: right;\">\n",
       "      <th></th>\n",
       "      <th>date</th>\n",
       "      <th>county</th>\n",
       "      <th>state</th>\n",
       "      <th>county_fips</th>\n",
       "      <th>county_cases</th>\n",
       "      <th>county_deaths</th>\n",
       "      <th>state_fips</th>\n",
       "      <th>state_cases</th>\n",
       "      <th>state_deaths</th>\n",
       "      <th>county_population</th>\n",
       "      <th>state_population</th>\n",
       "    </tr>\n",
       "  </thead>\n",
       "  <tbody>\n",
       "    <tr>\n",
       "      <th>0</th>\n",
       "      <td>2020-04-28</td>\n",
       "      <td>Albany</td>\n",
       "      <td>New York</td>\n",
       "      <td>36001</td>\n",
       "      <td>1009</td>\n",
       "      <td>45</td>\n",
       "      <td>36</td>\n",
       "      <td>295137</td>\n",
       "      <td>17638</td>\n",
       "      <td>305506</td>\n",
       "      <td>19453561</td>\n",
       "    </tr>\n",
       "    <tr>\n",
       "      <th>1</th>\n",
       "      <td>2020-04-29</td>\n",
       "      <td>Albany</td>\n",
       "      <td>New York</td>\n",
       "      <td>36001</td>\n",
       "      <td>1067</td>\n",
       "      <td>47</td>\n",
       "      <td>36</td>\n",
       "      <td>299722</td>\n",
       "      <td>18015</td>\n",
       "      <td>305506</td>\n",
       "      <td>19453561</td>\n",
       "    </tr>\n",
       "    <tr>\n",
       "      <th>2</th>\n",
       "      <td>2020-04-30</td>\n",
       "      <td>Albany</td>\n",
       "      <td>New York</td>\n",
       "      <td>36001</td>\n",
       "      <td>1165</td>\n",
       "      <td>53</td>\n",
       "      <td>36</td>\n",
       "      <td>304401</td>\n",
       "      <td>18321</td>\n",
       "      <td>305506</td>\n",
       "      <td>19453561</td>\n",
       "    </tr>\n",
       "    <tr>\n",
       "      <th>3</th>\n",
       "      <td>2020-05-01</td>\n",
       "      <td>Albany</td>\n",
       "      <td>New York</td>\n",
       "      <td>36001</td>\n",
       "      <td>1204</td>\n",
       "      <td>55</td>\n",
       "      <td>36</td>\n",
       "      <td>308345</td>\n",
       "      <td>18610</td>\n",
       "      <td>305506</td>\n",
       "      <td>19453561</td>\n",
       "    </tr>\n",
       "    <tr>\n",
       "      <th>4</th>\n",
       "      <td>2020-05-02</td>\n",
       "      <td>Albany</td>\n",
       "      <td>New York</td>\n",
       "      <td>36001</td>\n",
       "      <td>1238</td>\n",
       "      <td>60</td>\n",
       "      <td>36</td>\n",
       "      <td>313008</td>\n",
       "      <td>18909</td>\n",
       "      <td>305506</td>\n",
       "      <td>19453561</td>\n",
       "    </tr>\n",
       "  </tbody>\n",
       "</table>\n",
       "</div>"
      ],
      "text/plain": [
       "         date  county     state  county_fips  county_cases  county_deaths  \\\n",
       "0  2020-04-28  Albany  New York        36001          1009             45   \n",
       "1  2020-04-29  Albany  New York        36001          1067             47   \n",
       "2  2020-04-30  Albany  New York        36001          1165             53   \n",
       "3  2020-05-01  Albany  New York        36001          1204             55   \n",
       "4  2020-05-02  Albany  New York        36001          1238             60   \n",
       "\n",
       "   state_fips  state_cases  state_deaths  county_population  state_population  \n",
       "0          36       295137         17638             305506          19453561  \n",
       "1          36       299722         18015             305506          19453561  \n",
       "2          36       304401         18321             305506          19453561  \n",
       "3          36       308345         18610             305506          19453561  \n",
       "4          36       313008         18909             305506          19453561  "
      ]
     },
     "execution_count": 28,
     "metadata": {},
     "output_type": "execute_result"
    }
   ],
   "source": [
    "#removing duplicate columns: \n",
    "covid_and_pop_ny_tx.drop(columns=['state_fips_y', 'state_y', 'county_y'],inplace=True)\n",
    "#renaming columns:\n",
    "covid_and_pop_ny_tx.rename(columns={'county_x':'county', 'state_x':'state', 'state_fips_x':'state_fips'},inplace=True)\n",
    "covid_and_pop_ny_tx.head()"
   ]
  },
  {
   "cell_type": "code",
   "execution_count": 29,
   "metadata": {},
   "outputs": [
    {
     "data": {
      "text/plain": [
       "(2425, 11)"
      ]
     },
     "execution_count": 29,
     "metadata": {},
     "output_type": "execute_result"
    }
   ],
   "source": [
    "covid_and_pop_ny_tx.shape"
   ]
  },
  {
   "cell_type": "markdown",
   "metadata": {},
   "source": [
    "## Gathering State Policy Data "
   ]
  },
  {
   "cell_type": "markdown",
   "metadata": {},
   "source": [
    "While many of the policies and actions taken in New York and Texas were consistent, we did find a few important differences that would potentially affect public opinion about Covid 19. \n",
    "- In New York:\n",
    "    * All public gatherings have been prohibited since March 21, 2020. While Texas did limit gatherings to groups of 10 or under, they never banned them altogether.\n",
    "    * Temporary hospital space was constructed to deal with overflow patients, particularly in New York City. Texas made small changes to increase capacity in existing hospitals.\n",
    "    * A statewide shelter-in-place order has been in effect on March 20, 2020 and this is still in place. TX really never issues such an order on a statewide basis, instead issuing a \"mitigation\" order with guidelines (shelter-in-place orders were issued in several counties).\n",
    "- In Texas:\n",
    "    * Mandatory quarantines were put into place for people travelling to Texas from the New York area and New Orleans, LA. New York never quarantined people from other states or countries.\n",
    "    * Businesses reopening began on April 27, 2020 with most businesses allowed to operate at 25% of capacity. New York has yet to reopen businesses.\n",
    "    \n",
    "\n",
    "- Testing Data as of April 28, 2020\n",
    "\n",
    "|**State**|**Tests per 1,000 Residents**|**Percent of Tests Positive**|\n",
    "|:---|:---:|:---:|\n",
    "|New York|61.9|28%|\n",
    "|Texas|18.1|8%|\n"
   ]
  },
  {
   "cell_type": "markdown",
   "metadata": {},
   "source": [
    "### Apple Maps Data\n",
    "\n",
    "The Apple Maps division of Apple recently published data which tracks changes in routing requests since monday, January 13, 2020. The data establish 1/13/2020 usage as its index and compares each subsequent day to that baseline. To help compute data for our model, we have taken the average of the New York and Texas information for the nine days that our tweets were sent. We then subracted from 100 to arrive at the percentage of decreased usage.\n",
    "\n",
    "Note that while Apple did provide multiple data points for select cities based on usage while walking, while using public transportation and while driving, only the while driving data was provided for each state."
   ]
  },
  {
   "cell_type": "code",
   "execution_count": 30,
   "metadata": {},
   "outputs": [],
   "source": [
    "# read in apple data\n",
    "apple = pd.read_csv('../data/applemobilitytrends_2020_05_10.csv')"
   ]
  },
  {
   "cell_type": "code",
   "execution_count": 31,
   "metadata": {},
   "outputs": [],
   "source": [
    "# create lists of rows and columns that could be pertinent for NY and TX\n",
    "columns_list = ['geo_type','region','transportation_type','alternative_name','2020-04-28','2020-04-29','2020-04-30','2020-05-01','2020-05-02','2020-05-03','2020-05-04','2020-05-05','2020-05-06']\n",
    "rows_list = [173,174,175,245,246,247,248,249,250,301,302,303,406,407,408,460,461,462,480,481,482,906,1078]"
   ]
  },
  {
   "cell_type": "code",
   "execution_count": 32,
   "metadata": {},
   "outputs": [],
   "source": [
    "# trim database to just those rows and columns\n",
    "apple = apple.loc[rows_list,columns_list]"
   ]
  },
  {
   "cell_type": "code",
   "execution_count": 33,
   "metadata": {},
   "outputs": [],
   "source": [
    "# add a column combining region and transportation type\n",
    "apple['region+type'] = apple['region'] + ' ' + apple['transportation_type']"
   ]
  },
  {
   "cell_type": "code",
   "execution_count": 34,
   "metadata": {},
   "outputs": [],
   "source": [
    "# add a column that adds the mean score for our 9 days of tweets\n",
    "apple['mean'] = (apple['2020-04-28']+apple['2020-04-29']+apple['2020-04-30']+apple['2020-05-01']+apple['2020-05-02']+apple['2020-05-03']+apple['2020-05-04']+apple['2020-05-05']+apple['2020-05-06'])/9"
   ]
  },
  {
   "cell_type": "code",
   "execution_count": 35,
   "metadata": {},
   "outputs": [],
   "source": [
    "# Trim the database to just the created columns\n",
    "apple2 = apple.loc[:,['region+type','mean']]"
   ]
  },
  {
   "cell_type": "code",
   "execution_count": 36,
   "metadata": {},
   "outputs": [
    {
     "data": {
      "text/html": [
       "<div>\n",
       "<style scoped>\n",
       "    .dataframe tbody tr th:only-of-type {\n",
       "        vertical-align: middle;\n",
       "    }\n",
       "\n",
       "    .dataframe tbody tr th {\n",
       "        vertical-align: top;\n",
       "    }\n",
       "\n",
       "    .dataframe thead th {\n",
       "        text-align: right;\n",
       "    }\n",
       "</style>\n",
       "<table border=\"1\" class=\"dataframe\">\n",
       "  <thead>\n",
       "    <tr style=\"text-align: right;\">\n",
       "      <th></th>\n",
       "      <th>region+type</th>\n",
       "      <th>mean</th>\n",
       "    </tr>\n",
       "  </thead>\n",
       "  <tbody>\n",
       "    <tr>\n",
       "      <th>173</th>\n",
       "      <td>Austin driving</td>\n",
       "      <td>67.463333</td>\n",
       "    </tr>\n",
       "    <tr>\n",
       "      <th>174</th>\n",
       "      <td>Austin transit</td>\n",
       "      <td>38.030000</td>\n",
       "    </tr>\n",
       "    <tr>\n",
       "      <th>175</th>\n",
       "      <td>Austin walking</td>\n",
       "      <td>67.544444</td>\n",
       "    </tr>\n",
       "    <tr>\n",
       "      <th>245</th>\n",
       "      <td>Corpus Christi driving</td>\n",
       "      <td>105.376667</td>\n",
       "    </tr>\n",
       "    <tr>\n",
       "      <th>246</th>\n",
       "      <td>Corpus Christi transit</td>\n",
       "      <td>59.140000</td>\n",
       "    </tr>\n",
       "    <tr>\n",
       "      <th>247</th>\n",
       "      <td>Corpus Christi walking</td>\n",
       "      <td>108.345556</td>\n",
       "    </tr>\n",
       "    <tr>\n",
       "      <th>248</th>\n",
       "      <td>Dallas driving</td>\n",
       "      <td>77.040000</td>\n",
       "    </tr>\n",
       "    <tr>\n",
       "      <th>249</th>\n",
       "      <td>Dallas transit</td>\n",
       "      <td>49.845556</td>\n",
       "    </tr>\n",
       "    <tr>\n",
       "      <th>250</th>\n",
       "      <td>Dallas walking</td>\n",
       "      <td>83.725556</td>\n",
       "    </tr>\n",
       "    <tr>\n",
       "      <th>301</th>\n",
       "      <td>Houston driving</td>\n",
       "      <td>75.588889</td>\n",
       "    </tr>\n",
       "    <tr>\n",
       "      <th>302</th>\n",
       "      <td>Houston transit</td>\n",
       "      <td>47.757778</td>\n",
       "    </tr>\n",
       "    <tr>\n",
       "      <th>303</th>\n",
       "      <td>Houston walking</td>\n",
       "      <td>81.126667</td>\n",
       "    </tr>\n",
       "    <tr>\n",
       "      <th>406</th>\n",
       "      <td>New York City driving</td>\n",
       "      <td>57.858889</td>\n",
       "    </tr>\n",
       "    <tr>\n",
       "      <th>407</th>\n",
       "      <td>New York City transit</td>\n",
       "      <td>16.425556</td>\n",
       "    </tr>\n",
       "    <tr>\n",
       "      <th>408</th>\n",
       "      <td>New York City walking</td>\n",
       "      <td>32.844444</td>\n",
       "    </tr>\n",
       "    <tr>\n",
       "      <th>460</th>\n",
       "      <td>Rochester driving</td>\n",
       "      <td>81.076667</td>\n",
       "    </tr>\n",
       "    <tr>\n",
       "      <th>461</th>\n",
       "      <td>Rochester transit</td>\n",
       "      <td>41.280000</td>\n",
       "    </tr>\n",
       "    <tr>\n",
       "      <th>462</th>\n",
       "      <td>Rochester walking</td>\n",
       "      <td>87.113333</td>\n",
       "    </tr>\n",
       "    <tr>\n",
       "      <th>480</th>\n",
       "      <td>San Antonio driving</td>\n",
       "      <td>78.516667</td>\n",
       "    </tr>\n",
       "    <tr>\n",
       "      <th>481</th>\n",
       "      <td>San Antonio transit</td>\n",
       "      <td>46.903333</td>\n",
       "    </tr>\n",
       "    <tr>\n",
       "      <th>482</th>\n",
       "      <td>San Antonio walking</td>\n",
       "      <td>76.563333</td>\n",
       "    </tr>\n",
       "    <tr>\n",
       "      <th>906</th>\n",
       "      <td>New York driving</td>\n",
       "      <td>63.574444</td>\n",
       "    </tr>\n",
       "    <tr>\n",
       "      <th>1078</th>\n",
       "      <td>Texas driving</td>\n",
       "      <td>81.493333</td>\n",
       "    </tr>\n",
       "  </tbody>\n",
       "</table>\n",
       "</div>"
      ],
      "text/plain": [
       "                 region+type        mean\n",
       "173           Austin driving   67.463333\n",
       "174           Austin transit   38.030000\n",
       "175           Austin walking   67.544444\n",
       "245   Corpus Christi driving  105.376667\n",
       "246   Corpus Christi transit   59.140000\n",
       "247   Corpus Christi walking  108.345556\n",
       "248           Dallas driving   77.040000\n",
       "249           Dallas transit   49.845556\n",
       "250           Dallas walking   83.725556\n",
       "301          Houston driving   75.588889\n",
       "302          Houston transit   47.757778\n",
       "303          Houston walking   81.126667\n",
       "406    New York City driving   57.858889\n",
       "407    New York City transit   16.425556\n",
       "408    New York City walking   32.844444\n",
       "460        Rochester driving   81.076667\n",
       "461        Rochester transit   41.280000\n",
       "462        Rochester walking   87.113333\n",
       "480      San Antonio driving   78.516667\n",
       "481      San Antonio transit   46.903333\n",
       "482      San Antonio walking   76.563333\n",
       "906         New York driving   63.574444\n",
       "1078           Texas driving   81.493333"
      ]
     },
     "execution_count": 36,
     "metadata": {},
     "output_type": "execute_result"
    }
   ],
   "source": [
    "apple2"
   ]
  },
  {
   "cell_type": "markdown",
   "metadata": {},
   "source": [
    "#### Other Apple Notes\n",
    "\n",
    "While we are not including it in our model, there is some interesting info for some of the cities in our states:\n",
    "1. Walking and driving indicies are highest for Corpus Christie, TX and they are actually over 100. Use of public transportation in this city is the highest such index we see.\n",
    "1. New York City has the lowest figures for all three indicies.\n",
    "1. While New York has been far more locked down than Texas, Rochester, NY has the second highest indicies for walking and driving.\n",
    "1. With the exception of Austin, all of the cities in Texas had walking and driving indicies of at least 75%."
   ]
  },
  {
   "cell_type": "code",
   "execution_count": 37,
   "metadata": {},
   "outputs": [
    {
     "data": {
      "text/html": [
       "<div>\n",
       "<style scoped>\n",
       "    .dataframe tbody tr th:only-of-type {\n",
       "        vertical-align: middle;\n",
       "    }\n",
       "\n",
       "    .dataframe tbody tr th {\n",
       "        vertical-align: top;\n",
       "    }\n",
       "\n",
       "    .dataframe thead th {\n",
       "        text-align: right;\n",
       "    }\n",
       "</style>\n",
       "<table border=\"1\" class=\"dataframe\">\n",
       "  <thead>\n",
       "    <tr style=\"text-align: right;\">\n",
       "      <th></th>\n",
       "      <th>county_list</th>\n",
       "    </tr>\n",
       "  </thead>\n",
       "  <tbody>\n",
       "    <tr>\n",
       "      <th>0</th>\n",
       "      <td>Anderson County</td>\n",
       "    </tr>\n",
       "    <tr>\n",
       "      <th>1</th>\n",
       "      <td>Andrews County</td>\n",
       "    </tr>\n",
       "    <tr>\n",
       "      <th>2</th>\n",
       "      <td>Angelina County</td>\n",
       "    </tr>\n",
       "    <tr>\n",
       "      <th>3</th>\n",
       "      <td>Aransas County</td>\n",
       "    </tr>\n",
       "    <tr>\n",
       "      <th>4</th>\n",
       "      <td>Armstrong County</td>\n",
       "    </tr>\n",
       "  </tbody>\n",
       "</table>\n",
       "</div>"
      ],
      "text/plain": [
       "        county_list\n",
       "0   Anderson County\n",
       "1    Andrews County\n",
       "2   Angelina County\n",
       "3    Aransas County\n",
       "4  Armstrong County"
      ]
     },
     "execution_count": 37,
     "metadata": {},
     "output_type": "execute_result"
    }
   ],
   "source": [
    "tx_sip_counties = pd.read_csv('../data/sip_tx_ctys.csv')\n",
    "tx_sip_counties.head()"
   ]
  },
  {
   "cell_type": "code",
   "execution_count": 38,
   "metadata": {},
   "outputs": [],
   "source": [
    "def add_policy_data(df):\n",
    "    for policy in ['all_gatherings_prohibited', 'temporary_hospitals', 'state_stay_at_home' ]:\n",
    "        df[policy] = [1 if state == 'New York' else 0 for state in df['state']]\n",
    "    for policy in ['traveler_quarantines', 'businesses_reopening']:\n",
    "        df[policy] = [1 if state == 'Texas' else 0 for state in df['state']]\n",
    "    df['tests_per_thousand'] = [61.9 if state == 'New York' else 18.1 for state in df['state']]\n",
    "    df['test_positives_rate'] = [.28 if state == 'New York' else .08 for state in df['state']]\n",
    "    df['percent_average_mobility_decrease'] = [36.4 if state == 'New York' else 18.5 for state in df['state']]\n",
    "    \n",
    "    #adding shelter in place information \n",
    "    sip_list = []\n",
    "    for num in range(0,len(df)):\n",
    "        if df['state'][num] == 'New York':\n",
    "            sip_list.append(1)\n",
    "        elif df['state'][num] == 'Texas':\n",
    "            if df['county'][num]+\" County\" in tx_sip_counties:\n",
    "                sip_list.append(1)\n",
    "            else:\n",
    "                sip_list.append(0)\n",
    "    df['shelter_in_place'] = sip_list\n",
    "    return df "
   ]
  },
  {
   "cell_type": "code",
   "execution_count": 39,
   "metadata": {
    "scrolled": true
   },
   "outputs": [
    {
     "data": {
      "text/html": [
       "<div>\n",
       "<style scoped>\n",
       "    .dataframe tbody tr th:only-of-type {\n",
       "        vertical-align: middle;\n",
       "    }\n",
       "\n",
       "    .dataframe tbody tr th {\n",
       "        vertical-align: top;\n",
       "    }\n",
       "\n",
       "    .dataframe thead th {\n",
       "        text-align: right;\n",
       "    }\n",
       "</style>\n",
       "<table border=\"1\" class=\"dataframe\">\n",
       "  <thead>\n",
       "    <tr style=\"text-align: right;\">\n",
       "      <th></th>\n",
       "      <th>date</th>\n",
       "      <th>county</th>\n",
       "      <th>state</th>\n",
       "      <th>county_fips</th>\n",
       "      <th>county_cases</th>\n",
       "      <th>county_deaths</th>\n",
       "      <th>state_fips</th>\n",
       "      <th>state_cases</th>\n",
       "      <th>state_deaths</th>\n",
       "      <th>county_population</th>\n",
       "      <th>state_population</th>\n",
       "      <th>all_gatherings_prohibited</th>\n",
       "      <th>temporary_hospitals</th>\n",
       "      <th>state_stay_at_home</th>\n",
       "      <th>traveler_quarantines</th>\n",
       "      <th>businesses_reopening</th>\n",
       "      <th>tests_per_thousand</th>\n",
       "      <th>test_positives_rate</th>\n",
       "      <th>percent_average_mobility_decrease</th>\n",
       "      <th>shelter_in_place</th>\n",
       "    </tr>\n",
       "  </thead>\n",
       "  <tbody>\n",
       "    <tr>\n",
       "      <th>0</th>\n",
       "      <td>2020-04-28</td>\n",
       "      <td>Albany</td>\n",
       "      <td>New York</td>\n",
       "      <td>36001</td>\n",
       "      <td>1009</td>\n",
       "      <td>45</td>\n",
       "      <td>36</td>\n",
       "      <td>295137</td>\n",
       "      <td>17638</td>\n",
       "      <td>305506</td>\n",
       "      <td>19453561</td>\n",
       "      <td>1</td>\n",
       "      <td>1</td>\n",
       "      <td>1</td>\n",
       "      <td>0</td>\n",
       "      <td>0</td>\n",
       "      <td>61.9</td>\n",
       "      <td>0.28</td>\n",
       "      <td>36.4</td>\n",
       "      <td>1</td>\n",
       "    </tr>\n",
       "    <tr>\n",
       "      <th>1</th>\n",
       "      <td>2020-04-29</td>\n",
       "      <td>Albany</td>\n",
       "      <td>New York</td>\n",
       "      <td>36001</td>\n",
       "      <td>1067</td>\n",
       "      <td>47</td>\n",
       "      <td>36</td>\n",
       "      <td>299722</td>\n",
       "      <td>18015</td>\n",
       "      <td>305506</td>\n",
       "      <td>19453561</td>\n",
       "      <td>1</td>\n",
       "      <td>1</td>\n",
       "      <td>1</td>\n",
       "      <td>0</td>\n",
       "      <td>0</td>\n",
       "      <td>61.9</td>\n",
       "      <td>0.28</td>\n",
       "      <td>36.4</td>\n",
       "      <td>1</td>\n",
       "    </tr>\n",
       "    <tr>\n",
       "      <th>2</th>\n",
       "      <td>2020-04-30</td>\n",
       "      <td>Albany</td>\n",
       "      <td>New York</td>\n",
       "      <td>36001</td>\n",
       "      <td>1165</td>\n",
       "      <td>53</td>\n",
       "      <td>36</td>\n",
       "      <td>304401</td>\n",
       "      <td>18321</td>\n",
       "      <td>305506</td>\n",
       "      <td>19453561</td>\n",
       "      <td>1</td>\n",
       "      <td>1</td>\n",
       "      <td>1</td>\n",
       "      <td>0</td>\n",
       "      <td>0</td>\n",
       "      <td>61.9</td>\n",
       "      <td>0.28</td>\n",
       "      <td>36.4</td>\n",
       "      <td>1</td>\n",
       "    </tr>\n",
       "    <tr>\n",
       "      <th>3</th>\n",
       "      <td>2020-05-01</td>\n",
       "      <td>Albany</td>\n",
       "      <td>New York</td>\n",
       "      <td>36001</td>\n",
       "      <td>1204</td>\n",
       "      <td>55</td>\n",
       "      <td>36</td>\n",
       "      <td>308345</td>\n",
       "      <td>18610</td>\n",
       "      <td>305506</td>\n",
       "      <td>19453561</td>\n",
       "      <td>1</td>\n",
       "      <td>1</td>\n",
       "      <td>1</td>\n",
       "      <td>0</td>\n",
       "      <td>0</td>\n",
       "      <td>61.9</td>\n",
       "      <td>0.28</td>\n",
       "      <td>36.4</td>\n",
       "      <td>1</td>\n",
       "    </tr>\n",
       "    <tr>\n",
       "      <th>4</th>\n",
       "      <td>2020-05-02</td>\n",
       "      <td>Albany</td>\n",
       "      <td>New York</td>\n",
       "      <td>36001</td>\n",
       "      <td>1238</td>\n",
       "      <td>60</td>\n",
       "      <td>36</td>\n",
       "      <td>313008</td>\n",
       "      <td>18909</td>\n",
       "      <td>305506</td>\n",
       "      <td>19453561</td>\n",
       "      <td>1</td>\n",
       "      <td>1</td>\n",
       "      <td>1</td>\n",
       "      <td>0</td>\n",
       "      <td>0</td>\n",
       "      <td>61.9</td>\n",
       "      <td>0.28</td>\n",
       "      <td>36.4</td>\n",
       "      <td>1</td>\n",
       "    </tr>\n",
       "  </tbody>\n",
       "</table>\n",
       "</div>"
      ],
      "text/plain": [
       "         date  county     state  county_fips  county_cases  county_deaths  \\\n",
       "0  2020-04-28  Albany  New York        36001          1009             45   \n",
       "1  2020-04-29  Albany  New York        36001          1067             47   \n",
       "2  2020-04-30  Albany  New York        36001          1165             53   \n",
       "3  2020-05-01  Albany  New York        36001          1204             55   \n",
       "4  2020-05-02  Albany  New York        36001          1238             60   \n",
       "\n",
       "   state_fips  state_cases  state_deaths  county_population  state_population  \\\n",
       "0          36       295137         17638             305506          19453561   \n",
       "1          36       299722         18015             305506          19453561   \n",
       "2          36       304401         18321             305506          19453561   \n",
       "3          36       308345         18610             305506          19453561   \n",
       "4          36       313008         18909             305506          19453561   \n",
       "\n",
       "   all_gatherings_prohibited  temporary_hospitals  state_stay_at_home  \\\n",
       "0                          1                    1                   1   \n",
       "1                          1                    1                   1   \n",
       "2                          1                    1                   1   \n",
       "3                          1                    1                   1   \n",
       "4                          1                    1                   1   \n",
       "\n",
       "   traveler_quarantines  businesses_reopening  tests_per_thousand  \\\n",
       "0                     0                     0                61.9   \n",
       "1                     0                     0                61.9   \n",
       "2                     0                     0                61.9   \n",
       "3                     0                     0                61.9   \n",
       "4                     0                     0                61.9   \n",
       "\n",
       "   test_positives_rate  percent_average_mobility_decrease  shelter_in_place  \n",
       "0                 0.28                               36.4                 1  \n",
       "1                 0.28                               36.4                 1  \n",
       "2                 0.28                               36.4                 1  \n",
       "3                 0.28                               36.4                 1  \n",
       "4                 0.28                               36.4                 1  "
      ]
     },
     "execution_count": 39,
     "metadata": {},
     "output_type": "execute_result"
    }
   ],
   "source": [
    "covid_pop_and_policy_tx_ny = add_policy_data(covid_and_pop_ny_tx)\n",
    "covid_pop_and_policy_tx_ny.head()"
   ]
  },
  {
   "cell_type": "code",
   "execution_count": 40,
   "metadata": {},
   "outputs": [
    {
     "data": {
      "text/plain": [
       "(2425, 20)"
      ]
     },
     "execution_count": 40,
     "metadata": {},
     "output_type": "execute_result"
    }
   ],
   "source": [
    "covid_pop_and_policy_tx_ny.shape"
   ]
  },
  {
   "cell_type": "markdown",
   "metadata": {},
   "source": [
    "## Combining All Dataframes "
   ]
  },
  {
   "cell_type": "markdown",
   "metadata": {},
   "source": [
    "In order to merge the `tweets_ny_tx` data and the `covid_pop_and_policy_tx_ny` data, we must match the cities in the `tweets_ny_tx` dataframe to counties in the `covid_pop_and_policy_tx_ny` dataframe. "
   ]
  },
  {
   "cell_type": "code",
   "execution_count": 41,
   "metadata": {},
   "outputs": [
    {
     "data": {
      "text/html": [
       "<div>\n",
       "<style scoped>\n",
       "    .dataframe tbody tr th:only-of-type {\n",
       "        vertical-align: middle;\n",
       "    }\n",
       "\n",
       "    .dataframe tbody tr th {\n",
       "        vertical-align: top;\n",
       "    }\n",
       "\n",
       "    .dataframe thead th {\n",
       "        text-align: right;\n",
       "    }\n",
       "</style>\n",
       "<table border=\"1\" class=\"dataframe\">\n",
       "  <thead>\n",
       "    <tr style=\"text-align: right;\">\n",
       "      <th></th>\n",
       "      <th>city</th>\n",
       "      <th>state_id</th>\n",
       "      <th>county_fips</th>\n",
       "      <th>county_name</th>\n",
       "      <th>density</th>\n",
       "    </tr>\n",
       "  </thead>\n",
       "  <tbody>\n",
       "    <tr>\n",
       "      <th>0</th>\n",
       "      <td>South Creek</td>\n",
       "      <td>WA</td>\n",
       "      <td>53053</td>\n",
       "      <td>Pierce</td>\n",
       "      <td>125.0</td>\n",
       "    </tr>\n",
       "    <tr>\n",
       "      <th>1</th>\n",
       "      <td>Roslyn</td>\n",
       "      <td>WA</td>\n",
       "      <td>53037</td>\n",
       "      <td>Kittitas</td>\n",
       "      <td>84.0</td>\n",
       "    </tr>\n",
       "    <tr>\n",
       "      <th>2</th>\n",
       "      <td>Sprague</td>\n",
       "      <td>WA</td>\n",
       "      <td>53043</td>\n",
       "      <td>Lincoln</td>\n",
       "      <td>163.0</td>\n",
       "    </tr>\n",
       "    <tr>\n",
       "      <th>3</th>\n",
       "      <td>Gig Harbor</td>\n",
       "      <td>WA</td>\n",
       "      <td>53053</td>\n",
       "      <td>Pierce</td>\n",
       "      <td>622.0</td>\n",
       "    </tr>\n",
       "    <tr>\n",
       "      <th>4</th>\n",
       "      <td>Lake Cassidy</td>\n",
       "      <td>WA</td>\n",
       "      <td>53061</td>\n",
       "      <td>Snohomish</td>\n",
       "      <td>131.0</td>\n",
       "    </tr>\n",
       "  </tbody>\n",
       "</table>\n",
       "</div>"
      ],
      "text/plain": [
       "           city state_id  county_fips county_name  density\n",
       "0   South Creek       WA        53053      Pierce    125.0\n",
       "1        Roslyn       WA        53037    Kittitas     84.0\n",
       "2       Sprague       WA        53043     Lincoln    163.0\n",
       "3    Gig Harbor       WA        53053      Pierce    622.0\n",
       "4  Lake Cassidy       WA        53061   Snohomish    131.0"
      ]
     },
     "execution_count": 41,
     "metadata": {},
     "output_type": "execute_result"
    }
   ],
   "source": [
    "city_counties = pd.read_csv('../data/uscities.csv', usecols=['city', 'state_id', 'county_fips', 'county_name', 'density'])\n",
    "city_counties.head()"
   ]
  },
  {
   "cell_type": "code",
   "execution_count": 42,
   "metadata": {},
   "outputs": [
    {
     "data": {
      "text/plain": [
       "(28889, 5)"
      ]
     },
     "execution_count": 42,
     "metadata": {},
     "output_type": "execute_result"
    }
   ],
   "source": [
    "city_counties.shape"
   ]
  },
  {
   "cell_type": "markdown",
   "metadata": {},
   "source": [
    "Some inconsistencies in city names had to be fixed. "
   ]
  },
  {
   "cell_type": "code",
   "execution_count": 43,
   "metadata": {},
   "outputs": [],
   "source": [
    "ny_city_fix = {'Cheektowaga':'Buffalo',\n",
    "               'Clarence':'Clarence Center',\n",
    "               'Amherst':'Buffalo',\n",
    "               'Henrietta':'Rochester',\n",
    "               'Clifton Park':'Round Lake',\n",
    "               'Delmar':'Albany',\n",
    "               'Greece':'Rochester',\n",
    "               'Halfmoon':'Mechanicville',\n",
    "               'Huntington':'Huntington Bay',\n",
    "               'Latham':'Colonie',\n",
    "               'Oyster Bay':'Oyster Bay Cove', \n",
    "               'Poestenkill':'Averill Park',\n",
    "               'Somers':\"Golden's Bridge\"}\n",
    "tx_city_fix = {'Desoto':'Cedar Hill','Jollyville':'Austin'}"
   ]
  },
  {
   "cell_type": "code",
   "execution_count": 44,
   "metadata": {},
   "outputs": [],
   "source": [
    "city_counties_tx = city_counties[city_counties['state_id'] == 'TX']\n",
    "city_counties_ny = city_counties[city_counties['state_id'] == 'NY']"
   ]
  },
  {
   "cell_type": "code",
   "execution_count": 45,
   "metadata": {},
   "outputs": [],
   "source": [
    "tweets_ny = tweets_ny_tx[tweets_ny_tx['state'] == 'NY']\n",
    "tweets_tx = tweets_ny_tx[tweets_ny_tx['state'] == 'TX']"
   ]
  },
  {
   "cell_type": "code",
   "execution_count": 46,
   "metadata": {},
   "outputs": [
    {
     "name": "stderr",
     "output_type": "stream",
     "text": [
      "/opt/anaconda3/envs/DSI/lib/python3.7/site-packages/ipykernel_launcher.py:1: SettingWithCopyWarning: \n",
      "A value is trying to be set on a copy of a slice from a DataFrame.\n",
      "Try using .loc[row_indexer,col_indexer] = value instead\n",
      "\n",
      "See the caveats in the documentation: https://pandas.pydata.org/pandas-docs/stable/user_guide/indexing.html#returning-a-view-versus-a-copy\n",
      "  \"\"\"Entry point for launching an IPython kernel.\n",
      "/opt/anaconda3/envs/DSI/lib/python3.7/site-packages/ipykernel_launcher.py:2: SettingWithCopyWarning: \n",
      "A value is trying to be set on a copy of a slice from a DataFrame.\n",
      "Try using .loc[row_indexer,col_indexer] = value instead\n",
      "\n",
      "See the caveats in the documentation: https://pandas.pydata.org/pandas-docs/stable/user_guide/indexing.html#returning-a-view-versus-a-copy\n",
      "  \n"
     ]
    }
   ],
   "source": [
    "tweets_ny['city'] = tweets_ny['city'].replace(ny_city_fix)\n",
    "tweets_tx['city'] = tweets_tx['city'].replace(tx_city_fix)"
   ]
  },
  {
   "cell_type": "code",
   "execution_count": 47,
   "metadata": {},
   "outputs": [],
   "source": [
    "tweets_and_county_ny = pd.merge(tweets_ny, city_counties_ny, on='city')\n",
    "tweets_and_county_tx = pd.merge(tweets_tx, city_counties_tx, on='city')"
   ]
  },
  {
   "cell_type": "code",
   "execution_count": 48,
   "metadata": {},
   "outputs": [
    {
     "data": {
      "text/html": [
       "<div>\n",
       "<style scoped>\n",
       "    .dataframe tbody tr th:only-of-type {\n",
       "        vertical-align: middle;\n",
       "    }\n",
       "\n",
       "    .dataframe tbody tr th {\n",
       "        vertical-align: top;\n",
       "    }\n",
       "\n",
       "    .dataframe thead th {\n",
       "        text-align: right;\n",
       "    }\n",
       "</style>\n",
       "<table border=\"1\" class=\"dataframe\">\n",
       "  <thead>\n",
       "    <tr style=\"text-align: right;\">\n",
       "      <th></th>\n",
       "      <th>screen_name</th>\n",
       "      <th>username</th>\n",
       "      <th>tweet_id</th>\n",
       "      <th>timestamp</th>\n",
       "      <th>text</th>\n",
       "      <th>hashtags</th>\n",
       "      <th>likes</th>\n",
       "      <th>retweets</th>\n",
       "      <th>replies</th>\n",
       "      <th>sentiment_score</th>\n",
       "      <th>city</th>\n",
       "      <th>state</th>\n",
       "      <th>state_id</th>\n",
       "      <th>county_fips</th>\n",
       "      <th>county_name</th>\n",
       "      <th>density</th>\n",
       "    </tr>\n",
       "  </thead>\n",
       "  <tbody>\n",
       "    <tr>\n",
       "      <th>0</th>\n",
       "      <td>BillBodouva</td>\n",
       "      <td>Real Estate BuyerRep</td>\n",
       "      <td>1254996305082036224</td>\n",
       "      <td>2020-04-28 04:50:10</td>\n",
       "      <td>Happy Birthday Mom!  You wouldn’t believe what...</td>\n",
       "      <td>['bestmom', 'bestfriend', 'happybirthday', '1s...</td>\n",
       "      <td>0</td>\n",
       "      <td>0</td>\n",
       "      <td>0</td>\n",
       "      <td>0.313973</td>\n",
       "      <td>Sands Point</td>\n",
       "      <td>NY</td>\n",
       "      <td>NY</td>\n",
       "      <td>36059</td>\n",
       "      <td>Nassau</td>\n",
       "      <td>265.0</td>\n",
       "    </tr>\n",
       "    <tr>\n",
       "      <th>1</th>\n",
       "      <td>zagnut99</td>\n",
       "      <td>Frank Zagottis</td>\n",
       "      <td>1254999586302820353</td>\n",
       "      <td>2020-04-28 05:03:12</td>\n",
       "      <td>Isolation dinners continue with Isabel’s roast...</td>\n",
       "      <td>['Dinner', 'Chicken', 'Isolation', 'IsolationD...</td>\n",
       "      <td>0</td>\n",
       "      <td>0</td>\n",
       "      <td>0</td>\n",
       "      <td>-0.600000</td>\n",
       "      <td>Queens</td>\n",
       "      <td>NY</td>\n",
       "      <td>NY</td>\n",
       "      <td>36081</td>\n",
       "      <td>Queens</td>\n",
       "      <td>8247.0</td>\n",
       "    </tr>\n",
       "    <tr>\n",
       "      <th>2</th>\n",
       "      <td>johnnybebad666_</td>\n",
       "      <td>John Fitzgerald Kennedy Page®</td>\n",
       "      <td>1255004404723462146</td>\n",
       "      <td>2020-04-28 05:22:21</td>\n",
       "      <td>COVID-19 update \\nThis MTA BUS didn't pick me ...</td>\n",
       "      <td>[]</td>\n",
       "      <td>0</td>\n",
       "      <td>0</td>\n",
       "      <td>0</td>\n",
       "      <td>0.000000</td>\n",
       "      <td>Queens</td>\n",
       "      <td>NY</td>\n",
       "      <td>NY</td>\n",
       "      <td>36081</td>\n",
       "      <td>Queens</td>\n",
       "      <td>8247.0</td>\n",
       "    </tr>\n",
       "    <tr>\n",
       "      <th>3</th>\n",
       "      <td>_offclemmanuelp</td>\n",
       "      <td>Emmanuel Paguntalan</td>\n",
       "      <td>1255105729008226304</td>\n",
       "      <td>2020-04-28 12:04:59</td>\n",
       "      <td>Let's help our Frontliner in fighting COVID-19...</td>\n",
       "      <td>[]</td>\n",
       "      <td>0</td>\n",
       "      <td>0</td>\n",
       "      <td>0</td>\n",
       "      <td>0.041667</td>\n",
       "      <td>Queens</td>\n",
       "      <td>NY</td>\n",
       "      <td>NY</td>\n",
       "      <td>36081</td>\n",
       "      <td>Queens</td>\n",
       "      <td>8247.0</td>\n",
       "    </tr>\n",
       "    <tr>\n",
       "      <th>4</th>\n",
       "      <td>HelenAsimegbe</td>\n",
       "      <td>Helen Asimegbe</td>\n",
       "      <td>1255110017453359104</td>\n",
       "      <td>2020-04-28 12:22:01</td>\n",
       "      <td>Reposted from patiencesilias You are an amazin...</td>\n",
       "      <td>['my']</td>\n",
       "      <td>0</td>\n",
       "      <td>0</td>\n",
       "      <td>0</td>\n",
       "      <td>0.358333</td>\n",
       "      <td>Queens</td>\n",
       "      <td>NY</td>\n",
       "      <td>NY</td>\n",
       "      <td>36081</td>\n",
       "      <td>Queens</td>\n",
       "      <td>8247.0</td>\n",
       "    </tr>\n",
       "  </tbody>\n",
       "</table>\n",
       "</div>"
      ],
      "text/plain": [
       "       screen_name                       username             tweet_id  \\\n",
       "0      BillBodouva           Real Estate BuyerRep  1254996305082036224   \n",
       "1         zagnut99                 Frank Zagottis  1254999586302820353   \n",
       "2  johnnybebad666_  John Fitzgerald Kennedy Page®  1255004404723462146   \n",
       "3  _offclemmanuelp            Emmanuel Paguntalan  1255105729008226304   \n",
       "4    HelenAsimegbe                 Helen Asimegbe  1255110017453359104   \n",
       "\n",
       "             timestamp                                               text  \\\n",
       "0  2020-04-28 04:50:10  Happy Birthday Mom!  You wouldn’t believe what...   \n",
       "1  2020-04-28 05:03:12  Isolation dinners continue with Isabel’s roast...   \n",
       "2  2020-04-28 05:22:21  COVID-19 update \\nThis MTA BUS didn't pick me ...   \n",
       "3  2020-04-28 12:04:59  Let's help our Frontliner in fighting COVID-19...   \n",
       "4  2020-04-28 12:22:01  Reposted from patiencesilias You are an amazin...   \n",
       "\n",
       "                                            hashtags  likes  retweets  \\\n",
       "0  ['bestmom', 'bestfriend', 'happybirthday', '1s...      0         0   \n",
       "1  ['Dinner', 'Chicken', 'Isolation', 'IsolationD...      0         0   \n",
       "2                                                 []      0         0   \n",
       "3                                                 []      0         0   \n",
       "4                                             ['my']      0         0   \n",
       "\n",
       "   replies  sentiment_score         city state state_id  county_fips  \\\n",
       "0        0         0.313973  Sands Point    NY       NY        36059   \n",
       "1        0        -0.600000       Queens    NY       NY        36081   \n",
       "2        0         0.000000       Queens    NY       NY        36081   \n",
       "3        0         0.041667       Queens    NY       NY        36081   \n",
       "4        0         0.358333       Queens    NY       NY        36081   \n",
       "\n",
       "  county_name  density  \n",
       "0      Nassau    265.0  \n",
       "1      Queens   8247.0  \n",
       "2      Queens   8247.0  \n",
       "3      Queens   8247.0  \n",
       "4      Queens   8247.0  "
      ]
     },
     "execution_count": 48,
     "metadata": {},
     "output_type": "execute_result"
    }
   ],
   "source": [
    "# recombining the states\n",
    "tweets_and_county_ny_tx = pd.concat([tweets_and_county_ny,tweets_and_county_tx], axis=0)\n",
    "tweets_and_county_ny_tx.head()"
   ]
  },
  {
   "cell_type": "code",
   "execution_count": 49,
   "metadata": {},
   "outputs": [],
   "source": [
    "tweets_and_county_ny_tx.drop(columns='state_id', inplace=True)"
   ]
  },
  {
   "cell_type": "code",
   "execution_count": 50,
   "metadata": {},
   "outputs": [
    {
     "data": {
      "text/plain": [
       "(1727, 15)"
      ]
     },
     "execution_count": 50,
     "metadata": {},
     "output_type": "execute_result"
    }
   ],
   "source": [
    "tweets_and_county_ny_tx.shape"
   ]
  },
  {
   "cell_type": "code",
   "execution_count": 51,
   "metadata": {
    "scrolled": true
   },
   "outputs": [
    {
     "data": {
      "text/plain": [
       "screen_name         object\n",
       "username            object\n",
       "tweet_id             int64\n",
       "timestamp           object\n",
       "text                object\n",
       "hashtags            object\n",
       "likes                int64\n",
       "retweets             int64\n",
       "replies              int64\n",
       "sentiment_score    float64\n",
       "city                object\n",
       "state               object\n",
       "county_fips          int64\n",
       "county_name         object\n",
       "density            float64\n",
       "dtype: object"
      ]
     },
     "execution_count": 51,
     "metadata": {},
     "output_type": "execute_result"
    }
   ],
   "source": [
    "tweets_and_county_ny_tx.dtypes"
   ]
  },
  {
   "cell_type": "code",
   "execution_count": 52,
   "metadata": {},
   "outputs": [
    {
     "data": {
      "text/plain": [
       "date                                  object\n",
       "county                                object\n",
       "state                                 object\n",
       "county_fips                            int64\n",
       "county_cases                           int64\n",
       "county_deaths                          int64\n",
       "state_fips                             int64\n",
       "state_cases                            int64\n",
       "state_deaths                           int64\n",
       "county_population                      int64\n",
       "state_population                       int64\n",
       "all_gatherings_prohibited              int64\n",
       "temporary_hospitals                    int64\n",
       "state_stay_at_home                     int64\n",
       "traveler_quarantines                   int64\n",
       "businesses_reopening                   int64\n",
       "tests_per_thousand                   float64\n",
       "test_positives_rate                  float64\n",
       "percent_average_mobility_decrease    float64\n",
       "shelter_in_place                       int64\n",
       "dtype: object"
      ]
     },
     "execution_count": 52,
     "metadata": {},
     "output_type": "execute_result"
    }
   ],
   "source": [
    "covid_pop_and_policy_tx_ny.dtypes"
   ]
  },
  {
   "cell_type": "code",
   "execution_count": 53,
   "metadata": {},
   "outputs": [],
   "source": [
    "covid_pop_and_policy_tx_ny['date'] = pd.to_datetime(covid_pop_and_policy_tx_ny['date'])"
   ]
  },
  {
   "cell_type": "code",
   "execution_count": 54,
   "metadata": {},
   "outputs": [],
   "source": [
    "tweets_and_county_ny_tx['timestamp'] = pd.to_datetime(tweets_and_county_ny_tx['timestamp'])"
   ]
  },
  {
   "cell_type": "code",
   "execution_count": 55,
   "metadata": {},
   "outputs": [],
   "source": [
    "tweets_and_county_ny_tx['date'] = [timestamp.date() for timestamp in tweets_and_county_ny_tx['timestamp']]"
   ]
  },
  {
   "cell_type": "code",
   "execution_count": 56,
   "metadata": {},
   "outputs": [],
   "source": [
    "tweets_and_county_ny_tx['date'] = pd.to_datetime(tweets_and_county_ny_tx['date'])"
   ]
  },
  {
   "cell_type": "code",
   "execution_count": 57,
   "metadata": {},
   "outputs": [],
   "source": [
    "ny_county_fips_fix = {36061:36000, 36047:36000, 36005:36000, 36085:36000, 36081:36000}\n",
    "tweets_and_county_ny_tx['county_fips'] = tweets_and_county_ny_tx['county_fips'].replace(ny_county_fips_fix)"
   ]
  },
  {
   "cell_type": "code",
   "execution_count": 58,
   "metadata": {},
   "outputs": [],
   "source": [
    "tweets_covid_and_policy = pd.merge(tweets_and_county_ny_tx, covid_pop_and_policy_tx_ny, on=['county_fips', 'date'], how='left')"
   ]
  },
  {
   "cell_type": "code",
   "execution_count": 59,
   "metadata": {
    "scrolled": true
   },
   "outputs": [
    {
     "data": {
      "text/plain": [
       "(1746, 34)"
      ]
     },
     "execution_count": 59,
     "metadata": {},
     "output_type": "execute_result"
    }
   ],
   "source": [
    "tweets_covid_and_policy.shape"
   ]
  },
  {
   "cell_type": "code",
   "execution_count": 60,
   "metadata": {},
   "outputs": [],
   "source": [
    "tweets_covid_and_policy.drop_duplicates(subset=['tweet_id'], inplace=True)"
   ]
  },
  {
   "cell_type": "code",
   "execution_count": 61,
   "metadata": {},
   "outputs": [
    {
     "data": {
      "text/plain": [
       "(1727, 34)"
      ]
     },
     "execution_count": 61,
     "metadata": {},
     "output_type": "execute_result"
    }
   ],
   "source": [
    "tweets_covid_and_policy.shape"
   ]
  },
  {
   "cell_type": "code",
   "execution_count": 62,
   "metadata": {},
   "outputs": [
    {
     "data": {
      "text/html": [
       "<div>\n",
       "<style scoped>\n",
       "    .dataframe tbody tr th:only-of-type {\n",
       "        vertical-align: middle;\n",
       "    }\n",
       "\n",
       "    .dataframe tbody tr th {\n",
       "        vertical-align: top;\n",
       "    }\n",
       "\n",
       "    .dataframe thead th {\n",
       "        text-align: right;\n",
       "    }\n",
       "</style>\n",
       "<table border=\"1\" class=\"dataframe\">\n",
       "  <thead>\n",
       "    <tr style=\"text-align: right;\">\n",
       "      <th></th>\n",
       "      <th>screen_name</th>\n",
       "      <th>username</th>\n",
       "      <th>tweet_id</th>\n",
       "      <th>timestamp</th>\n",
       "      <th>text</th>\n",
       "      <th>hashtags</th>\n",
       "      <th>likes</th>\n",
       "      <th>retweets</th>\n",
       "      <th>replies</th>\n",
       "      <th>sentiment_score</th>\n",
       "      <th>...</th>\n",
       "      <th>state_population</th>\n",
       "      <th>all_gatherings_prohibited</th>\n",
       "      <th>temporary_hospitals</th>\n",
       "      <th>state_stay_at_home</th>\n",
       "      <th>traveler_quarantines</th>\n",
       "      <th>businesses_reopening</th>\n",
       "      <th>tests_per_thousand</th>\n",
       "      <th>test_positives_rate</th>\n",
       "      <th>percent_average_mobility_decrease</th>\n",
       "      <th>shelter_in_place</th>\n",
       "    </tr>\n",
       "  </thead>\n",
       "  <tbody>\n",
       "    <tr>\n",
       "      <th>0</th>\n",
       "      <td>BillBodouva</td>\n",
       "      <td>Real Estate BuyerRep</td>\n",
       "      <td>1254996305082036224</td>\n",
       "      <td>2020-04-28 04:50:10</td>\n",
       "      <td>Happy Birthday Mom!  You wouldn’t believe what...</td>\n",
       "      <td>['bestmom', 'bestfriend', 'happybirthday', '1s...</td>\n",
       "      <td>0</td>\n",
       "      <td>0</td>\n",
       "      <td>0</td>\n",
       "      <td>0.313973</td>\n",
       "      <td>...</td>\n",
       "      <td>19453561.0</td>\n",
       "      <td>1.0</td>\n",
       "      <td>1.0</td>\n",
       "      <td>1.0</td>\n",
       "      <td>0.0</td>\n",
       "      <td>0.0</td>\n",
       "      <td>61.9</td>\n",
       "      <td>0.28</td>\n",
       "      <td>36.4</td>\n",
       "      <td>1.0</td>\n",
       "    </tr>\n",
       "    <tr>\n",
       "      <th>1</th>\n",
       "      <td>zagnut99</td>\n",
       "      <td>Frank Zagottis</td>\n",
       "      <td>1254999586302820353</td>\n",
       "      <td>2020-04-28 05:03:12</td>\n",
       "      <td>Isolation dinners continue with Isabel’s roast...</td>\n",
       "      <td>['Dinner', 'Chicken', 'Isolation', 'IsolationD...</td>\n",
       "      <td>0</td>\n",
       "      <td>0</td>\n",
       "      <td>0</td>\n",
       "      <td>-0.600000</td>\n",
       "      <td>...</td>\n",
       "      <td>19453561.0</td>\n",
       "      <td>1.0</td>\n",
       "      <td>1.0</td>\n",
       "      <td>1.0</td>\n",
       "      <td>0.0</td>\n",
       "      <td>0.0</td>\n",
       "      <td>61.9</td>\n",
       "      <td>0.28</td>\n",
       "      <td>36.4</td>\n",
       "      <td>1.0</td>\n",
       "    </tr>\n",
       "    <tr>\n",
       "      <th>2</th>\n",
       "      <td>johnnybebad666_</td>\n",
       "      <td>John Fitzgerald Kennedy Page®</td>\n",
       "      <td>1255004404723462146</td>\n",
       "      <td>2020-04-28 05:22:21</td>\n",
       "      <td>COVID-19 update \\nThis MTA BUS didn't pick me ...</td>\n",
       "      <td>[]</td>\n",
       "      <td>0</td>\n",
       "      <td>0</td>\n",
       "      <td>0</td>\n",
       "      <td>0.000000</td>\n",
       "      <td>...</td>\n",
       "      <td>19453561.0</td>\n",
       "      <td>1.0</td>\n",
       "      <td>1.0</td>\n",
       "      <td>1.0</td>\n",
       "      <td>0.0</td>\n",
       "      <td>0.0</td>\n",
       "      <td>61.9</td>\n",
       "      <td>0.28</td>\n",
       "      <td>36.4</td>\n",
       "      <td>1.0</td>\n",
       "    </tr>\n",
       "    <tr>\n",
       "      <th>3</th>\n",
       "      <td>_offclemmanuelp</td>\n",
       "      <td>Emmanuel Paguntalan</td>\n",
       "      <td>1255105729008226304</td>\n",
       "      <td>2020-04-28 12:04:59</td>\n",
       "      <td>Let's help our Frontliner in fighting COVID-19...</td>\n",
       "      <td>[]</td>\n",
       "      <td>0</td>\n",
       "      <td>0</td>\n",
       "      <td>0</td>\n",
       "      <td>0.041667</td>\n",
       "      <td>...</td>\n",
       "      <td>19453561.0</td>\n",
       "      <td>1.0</td>\n",
       "      <td>1.0</td>\n",
       "      <td>1.0</td>\n",
       "      <td>0.0</td>\n",
       "      <td>0.0</td>\n",
       "      <td>61.9</td>\n",
       "      <td>0.28</td>\n",
       "      <td>36.4</td>\n",
       "      <td>1.0</td>\n",
       "    </tr>\n",
       "    <tr>\n",
       "      <th>4</th>\n",
       "      <td>HelenAsimegbe</td>\n",
       "      <td>Helen Asimegbe</td>\n",
       "      <td>1255110017453359104</td>\n",
       "      <td>2020-04-28 12:22:01</td>\n",
       "      <td>Reposted from patiencesilias You are an amazin...</td>\n",
       "      <td>['my']</td>\n",
       "      <td>0</td>\n",
       "      <td>0</td>\n",
       "      <td>0</td>\n",
       "      <td>0.358333</td>\n",
       "      <td>...</td>\n",
       "      <td>19453561.0</td>\n",
       "      <td>1.0</td>\n",
       "      <td>1.0</td>\n",
       "      <td>1.0</td>\n",
       "      <td>0.0</td>\n",
       "      <td>0.0</td>\n",
       "      <td>61.9</td>\n",
       "      <td>0.28</td>\n",
       "      <td>36.4</td>\n",
       "      <td>1.0</td>\n",
       "    </tr>\n",
       "  </tbody>\n",
       "</table>\n",
       "<p>5 rows × 34 columns</p>\n",
       "</div>"
      ],
      "text/plain": [
       "       screen_name                       username             tweet_id  \\\n",
       "0      BillBodouva           Real Estate BuyerRep  1254996305082036224   \n",
       "1         zagnut99                 Frank Zagottis  1254999586302820353   \n",
       "2  johnnybebad666_  John Fitzgerald Kennedy Page®  1255004404723462146   \n",
       "3  _offclemmanuelp            Emmanuel Paguntalan  1255105729008226304   \n",
       "4    HelenAsimegbe                 Helen Asimegbe  1255110017453359104   \n",
       "\n",
       "            timestamp                                               text  \\\n",
       "0 2020-04-28 04:50:10  Happy Birthday Mom!  You wouldn’t believe what...   \n",
       "1 2020-04-28 05:03:12  Isolation dinners continue with Isabel’s roast...   \n",
       "2 2020-04-28 05:22:21  COVID-19 update \\nThis MTA BUS didn't pick me ...   \n",
       "3 2020-04-28 12:04:59  Let's help our Frontliner in fighting COVID-19...   \n",
       "4 2020-04-28 12:22:01  Reposted from patiencesilias You are an amazin...   \n",
       "\n",
       "                                            hashtags  likes  retweets  \\\n",
       "0  ['bestmom', 'bestfriend', 'happybirthday', '1s...      0         0   \n",
       "1  ['Dinner', 'Chicken', 'Isolation', 'IsolationD...      0         0   \n",
       "2                                                 []      0         0   \n",
       "3                                                 []      0         0   \n",
       "4                                             ['my']      0         0   \n",
       "\n",
       "   replies  sentiment_score  ... state_population all_gatherings_prohibited  \\\n",
       "0        0         0.313973  ...       19453561.0                       1.0   \n",
       "1        0        -0.600000  ...       19453561.0                       1.0   \n",
       "2        0         0.000000  ...       19453561.0                       1.0   \n",
       "3        0         0.041667  ...       19453561.0                       1.0   \n",
       "4        0         0.358333  ...       19453561.0                       1.0   \n",
       "\n",
       "   temporary_hospitals state_stay_at_home  traveler_quarantines  \\\n",
       "0                  1.0                1.0                   0.0   \n",
       "1                  1.0                1.0                   0.0   \n",
       "2                  1.0                1.0                   0.0   \n",
       "3                  1.0                1.0                   0.0   \n",
       "4                  1.0                1.0                   0.0   \n",
       "\n",
       "  businesses_reopening tests_per_thousand test_positives_rate  \\\n",
       "0                  0.0               61.9                0.28   \n",
       "1                  0.0               61.9                0.28   \n",
       "2                  0.0               61.9                0.28   \n",
       "3                  0.0               61.9                0.28   \n",
       "4                  0.0               61.9                0.28   \n",
       "\n",
       "   percent_average_mobility_decrease  shelter_in_place  \n",
       "0                               36.4               1.0  \n",
       "1                               36.4               1.0  \n",
       "2                               36.4               1.0  \n",
       "3                               36.4               1.0  \n",
       "4                               36.4               1.0  \n",
       "\n",
       "[5 rows x 34 columns]"
      ]
     },
     "execution_count": 62,
     "metadata": {},
     "output_type": "execute_result"
    }
   ],
   "source": [
    "tweets_covid_and_policy.head()"
   ]
  },
  {
   "cell_type": "code",
   "execution_count": 63,
   "metadata": {},
   "outputs": [],
   "source": [
    "tweets_covid_and_policy.drop(columns=['state_x', 'county_name'], inplace=True)"
   ]
  },
  {
   "cell_type": "code",
   "execution_count": 64,
   "metadata": {},
   "outputs": [],
   "source": [
    "tweets_covid_and_policy.rename(columns={'state_y':'state'}, inplace=True)"
   ]
  },
  {
   "cell_type": "code",
   "execution_count": 65,
   "metadata": {},
   "outputs": [],
   "source": [
    "tweets_covid_and_policy.to_csv(\"../data/tweets_covid_and_policy.csv\", index = False)"
   ]
  },
  {
   "cell_type": "markdown",
   "metadata": {},
   "source": [
    "## References\n",
    "\n",
    "[Original Tweets IDs and Sentiment Scores Dataset](https://ieee-dataport.org/open-access/corona-virus-covid-19-geolocation-based-sentiment-data)  \n",
    "[Covid-19 Cases and Deaths Dataset](https://github.com/nytimes/covid-19-data)"
   ]
  },
  {
   "cell_type": "code",
   "execution_count": null,
   "metadata": {},
   "outputs": [],
   "source": []
  }
 ],
 "metadata": {
  "kernelspec": {
   "display_name": "Python 3",
   "language": "python",
   "name": "python3"
  },
  "language_info": {
   "codemirror_mode": {
    "name": "ipython",
    "version": 3
   },
   "file_extension": ".py",
   "mimetype": "text/x-python",
   "name": "python",
   "nbconvert_exporter": "python",
   "pygments_lexer": "ipython3",
   "version": "3.7.6"
  }
 },
 "nbformat": 4,
 "nbformat_minor": 4
}
